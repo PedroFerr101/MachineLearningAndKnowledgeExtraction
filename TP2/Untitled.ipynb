{
 "cells": [
  {
   "cell_type": "markdown",
   "metadata": {},
   "source": [
    "# Data transformation"
   ]
  },
  {
   "cell_type": "markdown",
   "metadata": {},
   "source": [
    "#### Import libraries"
   ]
  },
  {
   "cell_type": "code",
   "execution_count": 48,
   "metadata": {},
   "outputs": [],
   "source": [
    "import pandas as pd\n",
    "import numpy as np\n",
    "import matplotlib.pyplot as plt\n",
    "import seaborn as sns\n",
    "from sklearn.utils import shuffle\n",
    "from sklearn.metrics import classification_report\n",
    "from sklearn.metrics import accuracy_score\n",
    "from sklearn.preprocessing import StandardScaler\n",
    "from sklearn.preprocessing import KBinsDiscretizer\n",
    "from sklearn import preprocessing\n",
    "from sklearn.gaussian_process import GaussianProcessClassifier\n",
    "from sklearn.model_selection import cross_val_score\n",
    "from sklearn.naive_bayes import GaussianNB\n",
    "from sklearn.neighbors import KNeighborsClassifier\n",
    "from sklearn.neural_network import MLPClassifier\n",
    "from sklearn.svm import SVC\n",
    "from sklearn.tree import DecisionTreeClassifier\n",
    "from sklearn.linear_model import LogisticRegression\n",
    "from sklearn.linear_model import SGDClassifier\n",
    "from sklearn.ensemble import RandomForestClassifier, AdaBoostClassifier\n",
    "\n",
    "%matplotlib inline"
   ]
  },
  {
   "cell_type": "markdown",
   "metadata": {},
   "source": [
    "#### Load train and test data"
   ]
  },
  {
   "cell_type": "code",
   "execution_count": 69,
   "metadata": {},
   "outputs": [],
   "source": [
    "AbsenteeismAtWork = pd.read_csv('data/train_data.csv', index_col=0)\n",
    "AbsenteeismAtWork['Work load Average/day '] = [x.replace(',', '') for x in AbsenteeismAtWork['Work load Average/day ']]\n",
    "AbsenteeismAtWork['Work load Average/day '] = AbsenteeismAtWork['Work load Average/day '].astype(int)\n",
    "\n",
    "X_train = AbsenteeismAtWork.drop('Absent', 1)\n",
    "y_train =  AbsenteeismAtWork['Absent']\n",
    "\n",
    "X_test = pd.read_csv('data/test_data.csv', index_col=0)\n",
    "y_test = pd.read_csv('data/sample_submission.csv', index_col=0)"
   ]
  },
  {
   "cell_type": "markdown",
   "metadata": {},
   "source": [
    "### Data transformation techniques"
   ]
  },
  {
   "cell_type": "markdown",
   "metadata": {},
   "source": [
    "#### Standardization"
   ]
  },
  {
   "cell_type": "code",
   "execution_count": 70,
   "metadata": {},
   "outputs": [],
   "source": [
    "def scalerFunc(X_train): \n",
    "    scaler = StandardScaler()\n",
    "    scaled_data = scaler.fit_transform( X_train )\n",
    "    print(scaled_data)\n",
    "    print(X_train.head())\n",
    "    return scaled_data;"
   ]
  },
  {
   "cell_type": "markdown",
   "metadata": {},
   "source": [
    "#### Discretization"
   ]
  },
  {
   "cell_type": "code",
   "execution_count": 71,
   "metadata": {},
   "outputs": [],
   "source": [
    "def discretize(X_train):\n",
    "    X = X_train\n",
    "    featuresToDiscretize = ['Transportation expense', 'Distance from Residence to Work', 'Service time', 'Age', 'Work load Average/day ', 'Hit target', 'Weight', 'Height', 'Body mass index']\n",
    "    discretizer = KBinsDiscretizer(n_bins=5, encode='ordinal', strategy='uniform')\n",
    "    X[featuresToDiscretize] = discretizer.fit_transform(X[featuresToDiscretize])\n",
    "    X_train = AbsenteeismAtWork.drop('Absent', 1)\n",
    "    return X;"
   ]
  },
  {
   "cell_type": "code",
   "execution_count": 72,
   "metadata": {},
   "outputs": [],
   "source": [
    "def evaluateTechnique(X_train, y_train, transformer):\n",
    "    \n",
    "    X_train = transformer(X_train)\n",
    "    \n",
    "    classifiers = [\n",
    "        LogisticRegression(),\n",
    "        KNeighborsClassifier(n_neighbors=5),\n",
    "        SVC(),\n",
    "        SVC(kernel='linear'),\n",
    "        GaussianProcessClassifier(),\n",
    "        DecisionTreeClassifier(),\n",
    "        RandomForestClassifier(),\n",
    "        MLPClassifier(max_iter=1000),\n",
    "        AdaBoostClassifier(),\n",
    "        SGDClassifier(),\n",
    "        GaussianNB()\n",
    "    ]\n",
    "\n",
    "    names = [\"ElasticNet\", \"Logistic regression\", \"KNearest Neighbors (5)\", \"SVM-rbf\", \"SMV-linear\",\"Gaussian Process\", \"Decision Tree\", \"Random Forest\", \"Multi-layer Perceptron classifier\",\n",
    "                 \"AdaBoost\", \"SGDClassifier\", \"QDA\"]\n",
    "\n",
    "\n",
    "    for name, clf in zip(names, classifiers):\n",
    "        scores = cross_val_score(clf, X_train, y_train, cv=5)\n",
    "        print(name, \"Accuracy: %0.6f (+/- %0.6f)\" % (scores.mean(), scores.std() * 2))\n",
    "        \n",
    "    return    "
   ]
  },
  {
   "cell_type": "code",
   "execution_count": 73,
   "metadata": {},
   "outputs": [
    {
     "name": "stdout",
     "output_type": "stream",
     "text": [
      "[[ 0.78643681  0.11556159 -0.61348253 ...  0.81810669 -0.01573368\n",
      "   0.75477365]\n",
      " [-2.2599513   0.11556159 -0.61348253 ...  1.453406    0.94755301\n",
      "   0.99591539]\n",
      " [ 0.43493049  0.11556159  0.08365671 ...  0.73869427 -0.33682925\n",
      "   0.99591539]\n",
      " ...\n",
      " [ 1.02077435  0.71432631 -0.61348253 ...  0.26221979 -0.01573368\n",
      "   0.27249017]\n",
      " [ 0.43493049  0.71432631 -0.61348253 ...  1.21516876  3.83741307\n",
      "  -0.45093506]\n",
      " [ 1.02077435  0.71432631  0.78079594 ... -0.53190435 -0.17628146\n",
      "  -0.45093506]]\n",
      "    Reason for absence  Month of absence  Day of the week  Seasons  \\\n",
      "ID                                                                   \n",
      "1                   26                 7                3        1   \n",
      "2                    0                 7                3        1   \n",
      "3                   23                 7                4        1   \n",
      "4                    7                 7                5        1   \n",
      "5                   23                 7                5        1   \n",
      "\n",
      "    Transportation expense  Distance from Residence to Work  Service time  \\\n",
      "ID                                                                          \n",
      "1                      289                               36            13   \n",
      "2                      118                               13            18   \n",
      "3                      179                               51            18   \n",
      "4                      279                                5            14   \n",
      "5                      289                               36            13   \n",
      "\n",
      "    Age  Work load Average/day   Hit target  Disciplinary failure  Education  \\\n",
      "ID                                                                             \n",
      "1    33                  239554          97                     0          1   \n",
      "2    50                  239554          97                     1          1   \n",
      "3    38                  239554          97                     0          1   \n",
      "4    39                  239554          97                     0          1   \n",
      "5    33                  239554          97                     0          1   \n",
      "\n",
      "    Son  Social drinker  Social smoker  Pet  Weight  Height  Body mass index  \n",
      "ID                                                                            \n",
      "1     2               1              0    1      90     172               30  \n",
      "2     1               1              0    0      98     178               31  \n",
      "3     0               1              0    0      89     170               31  \n",
      "4     2               1              1    0      68     168               24  \n",
      "5     2               1              0    1      90     172               30  \n",
      "ElasticNet Accuracy: 0.816000 (+/- 0.095163)\n",
      "Logistic regression Accuracy: 0.832000 (+/- 0.073103)\n",
      "KNearest Neighbors (5) Accuracy: 0.848000 (+/- 0.077356)\n",
      "SVM-rbf Accuracy: 0.854000 (+/- 0.054553)\n",
      "SMV-linear Accuracy: 0.780000 (+/- 0.080994)\n",
      "Gaussian Process Accuracy: 0.754000 (+/- 0.218577)\n",
      "Decision Tree Accuracy: 0.798000 (+/- 0.095833)\n"
     ]
    },
    {
     "name": "stderr",
     "output_type": "stream",
     "text": [
      "/usr/local/lib/python3.7/site-packages/sklearn/neural_network/_multilayer_perceptron.py:571: ConvergenceWarning: Stochastic Optimizer: Maximum iterations (1000) reached and the optimization hasn't converged yet.\n",
      "  % self.max_iter, ConvergenceWarning)\n",
      "/usr/local/lib/python3.7/site-packages/sklearn/neural_network/_multilayer_perceptron.py:571: ConvergenceWarning: Stochastic Optimizer: Maximum iterations (1000) reached and the optimization hasn't converged yet.\n",
      "  % self.max_iter, ConvergenceWarning)\n",
      "/usr/local/lib/python3.7/site-packages/sklearn/neural_network/_multilayer_perceptron.py:571: ConvergenceWarning: Stochastic Optimizer: Maximum iterations (1000) reached and the optimization hasn't converged yet.\n",
      "  % self.max_iter, ConvergenceWarning)\n",
      "/usr/local/lib/python3.7/site-packages/sklearn/neural_network/_multilayer_perceptron.py:571: ConvergenceWarning: Stochastic Optimizer: Maximum iterations (1000) reached and the optimization hasn't converged yet.\n",
      "  % self.max_iter, ConvergenceWarning)\n",
      "/usr/local/lib/python3.7/site-packages/sklearn/neural_network/_multilayer_perceptron.py:571: ConvergenceWarning: Stochastic Optimizer: Maximum iterations (1000) reached and the optimization hasn't converged yet.\n",
      "  % self.max_iter, ConvergenceWarning)\n"
     ]
    },
    {
     "name": "stdout",
     "output_type": "stream",
     "text": [
      "Random Forest Accuracy: 0.790000 (+/- 0.071554)\n",
      "Multi-layer Perceptron classifier Accuracy: 0.786000 (+/- 0.104000)\n",
      "AdaBoost Accuracy: 0.792000 (+/- 0.101509)\n",
      "SGDClassifier Accuracy: 0.854000 (+/- 0.054553)\n"
     ]
    }
   ],
   "source": [
    "X_train = AbsenteeismAtWork.drop('Absent', 1)\n",
    "y_train =  AbsenteeismAtWork['Absent']\n",
    "evaluateTechnique(X_train, y_train, scalerFunc)"
   ]
  },
  {
   "cell_type": "code",
   "execution_count": 74,
   "metadata": {},
   "outputs": [
    {
     "name": "stderr",
     "output_type": "stream",
     "text": [
      "/usr/local/lib/python3.7/site-packages/sklearn/linear_model/_logistic.py:939: ConvergenceWarning: lbfgs failed to converge (status=1):\n",
      "STOP: TOTAL NO. of ITERATIONS REACHED LIMIT.\n",
      "\n",
      "Increase the number of iterations (max_iter) or scale the data as shown in:\n",
      "    https://scikit-learn.org/stable/modules/preprocessing.html.\n",
      "Please also refer to the documentation for alternative solver options:\n",
      "    https://scikit-learn.org/stable/modules/linear_model.html#logistic-regression\n",
      "  extra_warning_msg=_LOGISTIC_SOLVER_CONVERGENCE_MSG)\n",
      "/usr/local/lib/python3.7/site-packages/sklearn/linear_model/_logistic.py:939: ConvergenceWarning: lbfgs failed to converge (status=1):\n",
      "STOP: TOTAL NO. of ITERATIONS REACHED LIMIT.\n",
      "\n",
      "Increase the number of iterations (max_iter) or scale the data as shown in:\n",
      "    https://scikit-learn.org/stable/modules/preprocessing.html.\n",
      "Please also refer to the documentation for alternative solver options:\n",
      "    https://scikit-learn.org/stable/modules/linear_model.html#logistic-regression\n",
      "  extra_warning_msg=_LOGISTIC_SOLVER_CONVERGENCE_MSG)\n",
      "/usr/local/lib/python3.7/site-packages/sklearn/linear_model/_logistic.py:939: ConvergenceWarning: lbfgs failed to converge (status=1):\n",
      "STOP: TOTAL NO. of ITERATIONS REACHED LIMIT.\n",
      "\n",
      "Increase the number of iterations (max_iter) or scale the data as shown in:\n",
      "    https://scikit-learn.org/stable/modules/preprocessing.html.\n",
      "Please also refer to the documentation for alternative solver options:\n",
      "    https://scikit-learn.org/stable/modules/linear_model.html#logistic-regression\n",
      "  extra_warning_msg=_LOGISTIC_SOLVER_CONVERGENCE_MSG)\n",
      "/usr/local/lib/python3.7/site-packages/sklearn/linear_model/_logistic.py:939: ConvergenceWarning: lbfgs failed to converge (status=1):\n",
      "STOP: TOTAL NO. of ITERATIONS REACHED LIMIT.\n",
      "\n",
      "Increase the number of iterations (max_iter) or scale the data as shown in:\n",
      "    https://scikit-learn.org/stable/modules/preprocessing.html.\n",
      "Please also refer to the documentation for alternative solver options:\n",
      "    https://scikit-learn.org/stable/modules/linear_model.html#logistic-regression\n",
      "  extra_warning_msg=_LOGISTIC_SOLVER_CONVERGENCE_MSG)\n",
      "/usr/local/lib/python3.7/site-packages/sklearn/linear_model/_logistic.py:939: ConvergenceWarning: lbfgs failed to converge (status=1):\n",
      "STOP: TOTAL NO. of ITERATIONS REACHED LIMIT.\n",
      "\n",
      "Increase the number of iterations (max_iter) or scale the data as shown in:\n",
      "    https://scikit-learn.org/stable/modules/preprocessing.html.\n",
      "Please also refer to the documentation for alternative solver options:\n",
      "    https://scikit-learn.org/stable/modules/linear_model.html#logistic-regression\n",
      "  extra_warning_msg=_LOGISTIC_SOLVER_CONVERGENCE_MSG)\n"
     ]
    },
    {
     "name": "stdout",
     "output_type": "stream",
     "text": [
      "ElasticNet Accuracy: 0.814000 (+/- 0.072222)\n",
      "Logistic regression Accuracy: 0.786000 (+/- 0.048332)\n",
      "KNearest Neighbors (5) Accuracy: 0.828000 (+/- 0.049639)\n",
      "SVM-rbf Accuracy: 0.854000 (+/- 0.054553)\n",
      "SMV-linear Accuracy: 0.730000 (+/- 0.107331)\n",
      "Gaussian Process Accuracy: 0.732000 (+/- 0.189061)\n",
      "Decision Tree Accuracy: 0.814000 (+/- 0.067646)\n"
     ]
    },
    {
     "name": "stderr",
     "output_type": "stream",
     "text": [
      "/usr/local/lib/python3.7/site-packages/sklearn/neural_network/_multilayer_perceptron.py:571: ConvergenceWarning: Stochastic Optimizer: Maximum iterations (1000) reached and the optimization hasn't converged yet.\n",
      "  % self.max_iter, ConvergenceWarning)\n",
      "/usr/local/lib/python3.7/site-packages/sklearn/neural_network/_multilayer_perceptron.py:571: ConvergenceWarning: Stochastic Optimizer: Maximum iterations (1000) reached and the optimization hasn't converged yet.\n",
      "  % self.max_iter, ConvergenceWarning)\n",
      "/usr/local/lib/python3.7/site-packages/sklearn/neural_network/_multilayer_perceptron.py:571: ConvergenceWarning: Stochastic Optimizer: Maximum iterations (1000) reached and the optimization hasn't converged yet.\n",
      "  % self.max_iter, ConvergenceWarning)\n",
      "/usr/local/lib/python3.7/site-packages/sklearn/neural_network/_multilayer_perceptron.py:571: ConvergenceWarning: Stochastic Optimizer: Maximum iterations (1000) reached and the optimization hasn't converged yet.\n",
      "  % self.max_iter, ConvergenceWarning)\n"
     ]
    },
    {
     "name": "stdout",
     "output_type": "stream",
     "text": [
      "Random Forest Accuracy: 0.774000 (+/- 0.056000)\n",
      "Multi-layer Perceptron classifier Accuracy: 0.766000 (+/- 0.173712)\n",
      "AdaBoost Accuracy: 0.638000 (+/- 0.447821)\n",
      "SGDClassifier Accuracy: 0.854000 (+/- 0.054553)\n"
     ]
    }
   ],
   "source": [
    "X_train = AbsenteeismAtWork.drop('Absent', 1)\n",
    "y_train =  AbsenteeismAtWork['Absent']\n",
    "evaluateTechnique(X_train, y_train, discretize)"
   ]
  }
 ],
 "metadata": {
  "kernelspec": {
   "display_name": "Python 3",
   "language": "python",
   "name": "python3"
  },
  "language_info": {
   "codemirror_mode": {
    "name": "ipython",
    "version": 3
   },
   "file_extension": ".py",
   "mimetype": "text/x-python",
   "name": "python",
   "nbconvert_exporter": "python",
   "pygments_lexer": "ipython3",
   "version": "3.7.5"
  }
 },
 "nbformat": 4,
 "nbformat_minor": 2
}
