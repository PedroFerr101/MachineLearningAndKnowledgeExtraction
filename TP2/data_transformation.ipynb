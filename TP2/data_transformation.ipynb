{
 "cells": [
  {
   "cell_type": "markdown",
   "metadata": {},
   "source": [
    "# Data transformation"
   ]
  },
  {
   "cell_type": "markdown",
   "metadata": {},
   "source": [
    "#### Import libraries"
   ]
  },
  {
   "cell_type": "code",
   "execution_count": null,
   "metadata": {},
   "outputs": [],
   "source": [
    "import pandas as pd\n",
    "import numpy as np\n",
    "import matplotlib.pyplot as plt\n",
    "import seaborn as sns\n",
    "from sklearn.metrics import classification_report\n",
    "from sklearn.metrics import accuracy_score, precision_score, recall_score, roc_auc_score\n",
    "from sklearn.preprocessing import StandardScaler, RobustScaler, Normalizer, KBinsDiscretizer\n",
    "from sklearn import preprocessing\n",
    "from sklearn.model_selection import cross_validate\n",
    "from sklearn.naive_bayes import GaussianNB\n",
    "from sklearn.neighbors import KNeighborsClassifier\n",
    "from sklearn.neural_network import MLPClassifier\n",
    "from sklearn.svm import SVC, LinearSVC\n",
    "from sklearn.tree import DecisionTreeClassifier\n",
    "from sklearn.gaussian_process import GaussianProcessClassifier\n",
    "from sklearn.linear_model import LogisticRegression, LinearRegression, SGDClassifier\n",
    "from sklearn.ensemble import RandomForestClassifier, AdaBoostClassifier\n",
    "\n",
    "%matplotlib inline"
   ]
  },
  {
   "cell_type": "markdown",
   "metadata": {},
   "source": [
    "#### Load train and test data"
   ]
  },
  {
   "cell_type": "code",
   "execution_count": null,
   "metadata": {},
   "outputs": [],
   "source": [
    "AbsenteeismAtWork = pd.read_csv('data/train_data.csv', index_col=0)\n",
    "AbsenteeismAtWork['Work load Average/day '] = [x.replace(',', '') for x in AbsenteeismAtWork['Work load Average/day ']]\n",
    "AbsenteeismAtWork['Work load Average/day '] = AbsenteeismAtWork['Work load Average/day '].astype(int)\n",
    "\n",
    "X_train = AbsenteeismAtWork.drop('Absent', 1)\n",
    "y_train =  AbsenteeismAtWork['Absent']\n",
    "\n",
    "X_test = pd.read_csv('data/test_data.csv', index_col=0)\n",
    "y_test = pd.read_csv('data/sample_submission.csv', index_col=0)"
   ]
  },
  {
   "cell_type": "markdown",
   "metadata": {},
   "source": [
    "### Data transformation techniques"
   ]
  },
  {
   "cell_type": "markdown",
   "metadata": {},
   "source": [
    "#### Standardization"
   ]
  },
  {
   "cell_type": "code",
   "execution_count": null,
   "metadata": {},
   "outputs": [],
   "source": [
    "def standardScaling(X_train): \n",
    "    scaler = StandardScaler()\n",
    "    scaled_data = scaler.fit_transform( X_train )\n",
    "    return scaled_data;\n",
    "\n",
    "def standardScaling2(X_train, X_test): \n",
    "    scaler = StandardScaler()\n",
    "    scaled_data = scaler.fit_transform( X_train )\n",
    "    scaled_test = scaler.transform( X_test )\n",
    "    return scaled_data, scaled_test;\n",
    "\n",
    "\n",
    "def robustScaling(X_train):\n",
    "    scaler = RobustScaler()\n",
    "    scaled_data = scaler.fit_transform( X_train )\n",
    "    return scaled_data;\n",
    "\n",
    "def robustScaling2(X_train, X_test):\n",
    "    scaler = RobustScaler()\n",
    "    scaled_data = scaler.fit_transform( X_train )\n",
    "    scaled_test = scaler.transform( X_test )\n",
    "    return scaled_data, scaled_test;"
   ]
  },
  {
   "cell_type": "markdown",
   "metadata": {},
   "source": [
    "#### Discretization"
   ]
  },
  {
   "cell_type": "code",
   "execution_count": 4,
   "metadata": {},
   "outputs": [],
   "source": [
    "def discretize(X_train):\n",
    "    featuresToDiscretize = ['Transportation expense', 'Distance from Residence to Work', 'Service time', 'Age', 'Work load Average/day ', 'Hit target', 'Weight', 'Height', 'Body mass index']\n",
    "    discretizer = KBinsDiscretizer(n_bins=5, encode='ordinal', strategy='uniform')\n",
    "    X_train[featuresToDiscretize] = discretizer.fit_transform(X_train[featuresToDiscretize])\n",
    "    return X_train;\n",
    "\n",
    "def discretize2(X_train, X_test):\n",
    "    featuresToDiscretize = ['Transportation expense', 'Distance from Residence to Work', 'Service time', 'Age', 'Work load Average/day ', 'Hit target', 'Weight', 'Height', 'Body mass index']\n",
    "    discretizer = KBinsDiscretizer(n_bins=5, encode='ordinal', strategy='uniform')\n",
    "    X_train[featuresToDiscretize] = discretizer.fit_transform(X_train[featuresToDiscretize])\n",
    "    X_test[featuresToDiscretize] = discretizer.transform(X_test[featuresToDiscretize])\n",
    "    return X_train, X_test;"
   ]
  },
  {
   "cell_type": "markdown",
   "metadata": {},
   "source": [
    "#### Normalize"
   ]
  },
  {
   "cell_type": "code",
   "execution_count": 5,
   "metadata": {},
   "outputs": [],
   "source": [
    "def normalize(X_train):\n",
    "    X_train = transformer = Normalizer().fit_transform(X_train)\n",
    "    return X_train;\n",
    "\n",
    "def normalize2(X_train, X_test):\n",
    "    normalizer = Normalizer()\n",
    "    X_train = normalizer.fit_transform(X_train)\n",
    "    X_test = normalizer.transform(X_test)\n",
    "    return X_train, X_test;"
   ]
  },
  {
   "cell_type": "markdown",
   "metadata": {},
   "source": [
    "#### Técnica combinada"
   ]
  },
  {
   "cell_type": "code",
   "execution_count": 6,
   "metadata": {},
   "outputs": [],
   "source": [
    "def discretizeAndScale(X_train):\n",
    "    X_train = discretize(X_train)\n",
    "    X_train = robustScaling(X_train)\n",
    "    return X_train;\n",
    "\n",
    "def discretizeAndScale2(X_train, X_test):\n",
    "    X_train = discretize2(X_train, X_test)\n",
    "    X_train = robustScaling2(X_train, X_test)\n",
    "    return X_train, X_test;"
   ]
  },
  {
   "cell_type": "markdown",
   "metadata": {},
   "source": [
    "### Avaliação das técnicas"
   ]
  },
  {
   "cell_type": "code",
   "execution_count": 7,
   "metadata": {},
   "outputs": [],
   "source": [
    "def evaluateTechnique(transformer):\n",
    "    X_train = AbsenteeismAtWork.drop('Absent', 1)\n",
    "    y_train =  AbsenteeismAtWork['Absent']\n",
    "\n",
    "    X_train = transformer(X_train)\n",
    "    \n",
    "    classifiers = [\n",
    "        LogisticRegression(),\n",
    "        SGDClassifier(),\n",
    "        KNeighborsClassifier(n_neighbors=5),\n",
    "        SVC(),\n",
    "        LinearSVC(max_iter=10000),\n",
    "        GaussianNB(),\n",
    "        GaussianProcessClassifier(),\n",
    "        DecisionTreeClassifier(),\n",
    "        MLPClassifier(max_iter=10000),\n",
    "        AdaBoostClassifier(),\n",
    "        RandomForestClassifier(),\n",
    "    ]\n",
    "\n",
    "    names = [\n",
    "             \"Logistic regression\", \"SGDClassifier\",\n",
    "             \"KNearest Neighbors (5)\", \n",
    "             \"SVM-rbf\", \"SMV-linear\", \n",
    "             \"Gaussian naive bayes\",\n",
    "             \"Gaussian Process\", \n",
    "             \"Decision Tree\", \n",
    "             \"Multi-layer Perceptron\", \n",
    "             \"AdaBoost\", \"Random Forest\"]\n",
    "\n",
    "\n",
    "    for name, clf in zip(names, classifiers):\n",
    "        scores = cross_validate(clf, X_train, y_train, cv=5, scoring={'accuracy', 'roc_auc'})\n",
    "        print(\"Accuracy: %0.3f (+/- %0.3f) || AUROC %0.3f ->\" % (scores['test_accuracy'].mean(), scores['test_accuracy'].std() * 2, scores['test_roc_auc'].mean()), name)\n",
    "        \n",
    "    return;  "
   ]
  },
  {
   "cell_type": "code",
   "execution_count": 8,
   "metadata": {},
   "outputs": [
    {
     "name": "stdout",
     "output_type": "stream",
     "text": [
      "Accuracy: 0.816 (+/- 0.095) || AUROC 0.728 -> Logistic regression\n",
      "Accuracy: 0.752 (+/- 0.136) || AUROC 0.713 -> SGDClassifier\n",
      "Accuracy: 0.832 (+/- 0.073) || AUROC 0.704 -> KNearest Neighbors (5)\n",
      "Accuracy: 0.848 (+/- 0.077) || AUROC 0.712 -> SVM-rbf\n",
      "Accuracy: 0.820 (+/- 0.108) || AUROC 0.729 -> SMV-linear\n",
      "Accuracy: 0.854 (+/- 0.055) || AUROC 0.664 -> Gaussian naive bayes\n",
      "Accuracy: 0.780 (+/- 0.081) || AUROC 0.631 -> Gaussian Process\n",
      "Accuracy: 0.750 (+/- 0.196) || AUROC 0.678 -> Decision Tree\n",
      "Accuracy: 0.780 (+/- 0.107) || AUROC 0.699 -> Multi-layer Perceptron\n",
      "Accuracy: 0.786 (+/- 0.104) || AUROC 0.700 -> AdaBoost\n",
      "Accuracy: 0.808 (+/- 0.076) || AUROC 0.752 -> Random Forest\n"
     ]
    }
   ],
   "source": [
    "evaluateTechnique(standardScaling)"
   ]
  },
  {
   "cell_type": "code",
   "execution_count": 9,
   "metadata": {},
   "outputs": [
    {
     "name": "stdout",
     "output_type": "stream",
     "text": [
      "Accuracy: 0.816 (+/- 0.114) || AUROC 0.697 -> Logistic regression\n",
      "Accuracy: 0.810 (+/- 0.094) || AUROC 0.729 -> SGDClassifier\n",
      "Accuracy: 0.778 (+/- 0.054) || AUROC 0.626 -> KNearest Neighbors (5)\n",
      "Accuracy: 0.830 (+/- 0.061) || AUROC 0.676 -> SVM-rbf\n",
      "Accuracy: 0.822 (+/- 0.101) || AUROC 0.723 -> SMV-linear\n",
      "Accuracy: 0.854 (+/- 0.055) || AUROC 0.664 -> Gaussian naive bayes\n",
      "Accuracy: 0.782 (+/- 0.034) || AUROC 0.655 -> Gaussian Process\n",
      "Accuracy: 0.752 (+/- 0.200) || AUROC 0.683 -> Decision Tree\n",
      "Accuracy: 0.794 (+/- 0.068) || AUROC 0.702 -> Multi-layer Perceptron\n",
      "Accuracy: 0.786 (+/- 0.104) || AUROC 0.700 -> AdaBoost\n",
      "Accuracy: 0.808 (+/- 0.023) || AUROC 0.751 -> Random Forest\n"
     ]
    }
   ],
   "source": [
    "evaluateTechnique(robustScaling)"
   ]
  },
  {
   "cell_type": "code",
   "execution_count": 10,
   "metadata": {
    "scrolled": true
   },
   "outputs": [
    {
     "name": "stderr",
     "output_type": "stream",
     "text": [
      "/usr/local/lib/python3.7/site-packages/sklearn/linear_model/_logistic.py:939: ConvergenceWarning: lbfgs failed to converge (status=1):\n",
      "STOP: TOTAL NO. of ITERATIONS REACHED LIMIT.\n",
      "\n",
      "Increase the number of iterations (max_iter) or scale the data as shown in:\n",
      "    https://scikit-learn.org/stable/modules/preprocessing.html.\n",
      "Please also refer to the documentation for alternative solver options:\n",
      "    https://scikit-learn.org/stable/modules/linear_model.html#logistic-regression\n",
      "  extra_warning_msg=_LOGISTIC_SOLVER_CONVERGENCE_MSG)\n",
      "/usr/local/lib/python3.7/site-packages/sklearn/linear_model/_logistic.py:939: ConvergenceWarning: lbfgs failed to converge (status=1):\n",
      "STOP: TOTAL NO. of ITERATIONS REACHED LIMIT.\n",
      "\n",
      "Increase the number of iterations (max_iter) or scale the data as shown in:\n",
      "    https://scikit-learn.org/stable/modules/preprocessing.html.\n",
      "Please also refer to the documentation for alternative solver options:\n",
      "    https://scikit-learn.org/stable/modules/linear_model.html#logistic-regression\n",
      "  extra_warning_msg=_LOGISTIC_SOLVER_CONVERGENCE_MSG)\n",
      "/usr/local/lib/python3.7/site-packages/sklearn/linear_model/_logistic.py:939: ConvergenceWarning: lbfgs failed to converge (status=1):\n",
      "STOP: TOTAL NO. of ITERATIONS REACHED LIMIT.\n",
      "\n",
      "Increase the number of iterations (max_iter) or scale the data as shown in:\n",
      "    https://scikit-learn.org/stable/modules/preprocessing.html.\n",
      "Please also refer to the documentation for alternative solver options:\n",
      "    https://scikit-learn.org/stable/modules/linear_model.html#logistic-regression\n",
      "  extra_warning_msg=_LOGISTIC_SOLVER_CONVERGENCE_MSG)\n",
      "/usr/local/lib/python3.7/site-packages/sklearn/linear_model/_logistic.py:939: ConvergenceWarning: lbfgs failed to converge (status=1):\n",
      "STOP: TOTAL NO. of ITERATIONS REACHED LIMIT.\n",
      "\n",
      "Increase the number of iterations (max_iter) or scale the data as shown in:\n",
      "    https://scikit-learn.org/stable/modules/preprocessing.html.\n",
      "Please also refer to the documentation for alternative solver options:\n",
      "    https://scikit-learn.org/stable/modules/linear_model.html#logistic-regression\n",
      "  extra_warning_msg=_LOGISTIC_SOLVER_CONVERGENCE_MSG)\n",
      "/usr/local/lib/python3.7/site-packages/sklearn/linear_model/_logistic.py:939: ConvergenceWarning: lbfgs failed to converge (status=1):\n",
      "STOP: TOTAL NO. of ITERATIONS REACHED LIMIT.\n",
      "\n",
      "Increase the number of iterations (max_iter) or scale the data as shown in:\n",
      "    https://scikit-learn.org/stable/modules/preprocessing.html.\n",
      "Please also refer to the documentation for alternative solver options:\n",
      "    https://scikit-learn.org/stable/modules/linear_model.html#logistic-regression\n",
      "  extra_warning_msg=_LOGISTIC_SOLVER_CONVERGENCE_MSG)\n"
     ]
    },
    {
     "name": "stdout",
     "output_type": "stream",
     "text": [
      "Accuracy: 0.814 (+/- 0.072) || AUROC 0.703 -> Logistic regression\n",
      "Accuracy: 0.718 (+/- 0.428) || AUROC 0.550 -> SGDClassifier\n",
      "Accuracy: 0.786 (+/- 0.048) || AUROC 0.673 -> KNearest Neighbors (5)\n",
      "Accuracy: 0.828 (+/- 0.050) || AUROC 0.688 -> SVM-rbf\n"
     ]
    },
    {
     "name": "stderr",
     "output_type": "stream",
     "text": [
      "/usr/local/lib/python3.7/site-packages/sklearn/svm/_base.py:947: ConvergenceWarning: Liblinear failed to converge, increase the number of iterations.\n",
      "  \"the number of iterations.\", ConvergenceWarning)\n",
      "/usr/local/lib/python3.7/site-packages/sklearn/svm/_base.py:947: ConvergenceWarning: Liblinear failed to converge, increase the number of iterations.\n",
      "  \"the number of iterations.\", ConvergenceWarning)\n",
      "/usr/local/lib/python3.7/site-packages/sklearn/svm/_base.py:947: ConvergenceWarning: Liblinear failed to converge, increase the number of iterations.\n",
      "  \"the number of iterations.\", ConvergenceWarning)\n",
      "/usr/local/lib/python3.7/site-packages/sklearn/svm/_base.py:947: ConvergenceWarning: Liblinear failed to converge, increase the number of iterations.\n",
      "  \"the number of iterations.\", ConvergenceWarning)\n",
      "/usr/local/lib/python3.7/site-packages/sklearn/svm/_base.py:947: ConvergenceWarning: Liblinear failed to converge, increase the number of iterations.\n",
      "  \"the number of iterations.\", ConvergenceWarning)\n"
     ]
    },
    {
     "name": "stdout",
     "output_type": "stream",
     "text": [
      "Accuracy: 0.830 (+/- 0.049) || AUROC 0.733 -> SMV-linear\n",
      "Accuracy: 0.854 (+/- 0.055) || AUROC 0.664 -> Gaussian naive bayes\n",
      "Accuracy: 0.730 (+/- 0.107) || AUROC 0.598 -> Gaussian Process\n",
      "Accuracy: 0.734 (+/- 0.176) || AUROC 0.666 -> Decision Tree\n",
      "Accuracy: 0.794 (+/- 0.087) || AUROC 0.722 -> Multi-layer Perceptron\n",
      "Accuracy: 0.766 (+/- 0.174) || AUROC 0.716 -> AdaBoost\n",
      "Accuracy: 0.822 (+/- 0.062) || AUROC 0.738 -> Random Forest\n"
     ]
    }
   ],
   "source": [
    "evaluateTechnique(discretize)"
   ]
  },
  {
   "cell_type": "code",
   "execution_count": 11,
   "metadata": {},
   "outputs": [
    {
     "name": "stdout",
     "output_type": "stream",
     "text": [
      "Accuracy: 0.790 (+/- 0.000) || AUROC 0.559 -> Logistic regression\n",
      "Accuracy: 0.674 (+/- 0.464) || AUROC 0.561 -> SGDClassifier\n",
      "Accuracy: 0.772 (+/- 0.088) || AUROC 0.598 -> KNearest Neighbors (5)\n",
      "Accuracy: 0.790 (+/- 0.000) || AUROC 0.632 -> SVM-rbf\n",
      "Accuracy: 0.790 (+/- 0.000) || AUROC 0.559 -> SMV-linear\n",
      "Accuracy: 0.848 (+/- 0.057) || AUROC 0.639 -> Gaussian naive bayes\n",
      "Accuracy: 0.790 (+/- 0.000) || AUROC 0.559 -> Gaussian Process\n",
      "Accuracy: 0.718 (+/- 0.177) || AUROC 0.680 -> Decision Tree\n",
      "Accuracy: 0.790 (+/- 0.000) || AUROC 0.562 -> Multi-layer Perceptron\n",
      "Accuracy: 0.778 (+/- 0.099) || AUROC 0.691 -> AdaBoost\n",
      "Accuracy: 0.780 (+/- 0.112) || AUROC 0.755 -> Random Forest\n"
     ]
    }
   ],
   "source": [
    "evaluateTechnique(normalize)"
   ]
  },
  {
   "cell_type": "code",
   "execution_count": 12,
   "metadata": {},
   "outputs": [
    {
     "name": "stdout",
     "output_type": "stream",
     "text": [
      "Accuracy: 0.824 (+/- 0.066) || AUROC 0.705 -> Logistic regression\n",
      "Accuracy: 0.762 (+/- 0.194) || AUROC 0.697 -> SGDClassifier\n",
      "Accuracy: 0.784 (+/- 0.052) || AUROC 0.619 -> KNearest Neighbors (5)\n",
      "Accuracy: 0.824 (+/- 0.048) || AUROC 0.670 -> SVM-rbf\n",
      "Accuracy: 0.834 (+/- 0.045) || AUROC 0.737 -> SMV-linear\n",
      "Accuracy: 0.854 (+/- 0.055) || AUROC 0.664 -> Gaussian naive bayes\n",
      "Accuracy: 0.782 (+/- 0.048) || AUROC 0.659 -> Gaussian Process\n",
      "Accuracy: 0.738 (+/- 0.158) || AUROC 0.673 -> Decision Tree\n",
      "Accuracy: 0.786 (+/- 0.072) || AUROC 0.722 -> Multi-layer Perceptron\n",
      "Accuracy: 0.766 (+/- 0.174) || AUROC 0.716 -> AdaBoost\n",
      "Accuracy: 0.828 (+/- 0.064) || AUROC 0.740 -> Random Forest\n"
     ]
    }
   ],
   "source": [
    "evaluateTechnique(discretizeAndScale)"
   ]
  },
  {
   "cell_type": "markdown",
   "metadata": {},
   "source": [
    "## Avaliação com os dados de teste"
   ]
  },
  {
   "cell_type": "code",
   "execution_count": 13,
   "metadata": {},
   "outputs": [],
   "source": [
    "def evaluateTechniqueAgaintTestData(transformer):\n",
    "    X_train = AbsenteeismAtWork.drop('Absent', 1)\n",
    "    y_train =  AbsenteeismAtWork['Absent']\n",
    "    X_test = pd.read_csv('data/test_data.csv', index_col=0)\n",
    "    y_test = pd.read_csv('data/sample_submission.csv', index_col=0)\n",
    "    \n",
    "    \n",
    "    X_train, X_test = transformer(X_train, X_test)\n",
    "\n",
    "    \n",
    "    classifiers = [\n",
    "        LogisticRegression(),\n",
    "        SGDClassifier(),\n",
    "        KNeighborsClassifier(n_neighbors=5),\n",
    "        SVC(),\n",
    "        LinearSVC(max_iter=10000),\n",
    "        GaussianNB(),\n",
    "        GaussianProcessClassifier(),\n",
    "        DecisionTreeClassifier(),\n",
    "        MLPClassifier(max_iter=10000),\n",
    "        AdaBoostClassifier(),\n",
    "        RandomForestClassifier(),\n",
    "    ]\n",
    "\n",
    "    names = [\n",
    "             \"Logistic regression\", \"SGDClassifier\",\n",
    "             \"KNearest Neighbors (5)\", \n",
    "             \"SVM-rbf\", \"SMV-linear\", \n",
    "             \"Gaussian naive bayes\",\n",
    "             \"Gaussian Process\", \n",
    "             \"Decision Tree\", \n",
    "             \"Multi-layer Perceptron\", \n",
    "             \"AdaBoost\", \"Random Forest\"]\n",
    "\n",
    "\n",
    "    for name, clf in zip(names, classifiers):\n",
    "        clf.fit(X_train, y_train)\n",
    "        predicted = clf.predict(X_test)\n",
    "        evaluateModel(name, y_test, predicted)    \n",
    "    return;  \n",
    "\n",
    "\n",
    "def evaluateModel(name, y_test, predicted):\n",
    "    print(\"Accuracy: %0.3f || AUROC %0.3f || (Accuracy, Precision) 0:( %0.3f, %0.3f)  1:( %0.3f, %0.3f) ->\" \n",
    "              % (accuracy_score(y_test,predicted), roc_auc_score(y_test, predicted),\n",
    "                recall_score(y_test,predicted,pos_label=0), precision_score(y_test,predicted,pos_label=0),\n",
    "                recall_score(y_test,predicted,pos_label=1), precision_score(y_test,predicted,pos_label=1)), name)\n",
    "    return;"
   ]
  },
  {
   "cell_type": "code",
   "execution_count": 14,
   "metadata": {},
   "outputs": [
    {
     "name": "stdout",
     "output_type": "stream",
     "text": [
      "Accuracy: 0.796 || AUROC 0.540 || (Accuracy, Precision) 0:( 0.136, 0.353)  1:( 0.944, 0.830) -> Logistic regression\n",
      "Accuracy: 0.688 || AUROC 0.553 || (Accuracy, Precision) 0:( 0.341, 0.246)  1:( 0.765, 0.838) -> SGDClassifier\n",
      "Accuracy: 0.800 || AUROC 0.516 || (Accuracy, Precision) 0:( 0.068, 0.300)  1:( 0.964, 0.822) -> KNearest Neighbors (5)\n",
      "Accuracy: 0.808 || AUROC 0.521 || (Accuracy, Precision) 0:( 0.068, 0.375)  1:( 0.974, 0.823) -> SVM-rbf\n",
      "Accuracy: 0.800 || AUROC 0.543 || (Accuracy, Precision) 0:( 0.136, 0.375)  1:( 0.949, 0.830) -> SMV-linear\n",
      "Accuracy: 0.808 || AUROC 0.521 || (Accuracy, Precision) 0:( 0.068, 0.375)  1:( 0.974, 0.823) -> Gaussian naive bayes\n",
      "Accuracy: 0.779 || AUROC 0.530 || (Accuracy, Precision) 0:( 0.136, 0.286)  1:( 0.923, 0.826) -> Gaussian Process\n",
      "Accuracy: 0.738 || AUROC 0.566 || (Accuracy, Precision) 0:( 0.295, 0.289)  1:( 0.837, 0.841) -> Decision Tree\n",
      "Accuracy: 0.746 || AUROC 0.501 || (Accuracy, Precision) 0:( 0.114, 0.185)  1:( 0.888, 0.817) -> Multi-layer Perceptron\n",
      "Accuracy: 0.767 || AUROC 0.513 || (Accuracy, Precision) 0:( 0.114, 0.227)  1:( 0.913, 0.821) -> AdaBoost\n",
      "Accuracy: 0.783 || AUROC 0.524 || (Accuracy, Precision) 0:( 0.114, 0.278)  1:( 0.934, 0.824) -> Random Forest\n"
     ]
    }
   ],
   "source": [
    "evaluateTechniqueAgaintTestData(standardScaling2)"
   ]
  },
  {
   "cell_type": "code",
   "execution_count": 15,
   "metadata": {},
   "outputs": [
    {
     "name": "stdout",
     "output_type": "stream",
     "text": [
      "Accuracy: 0.804 || AUROC 0.545 || (Accuracy, Precision) 0:( 0.136, 0.400)  1:( 0.954, 0.831) -> Logistic regression\n",
      "Accuracy: 0.654 || AUROC 0.542 || (Accuracy, Precision) 0:( 0.364, 0.225)  1:( 0.719, 0.834) -> SGDClassifier\n",
      "Accuracy: 0.804 || AUROC 0.501 || (Accuracy, Precision) 0:( 0.023, 0.200)  1:( 0.980, 0.817) -> KNearest Neighbors (5)\n",
      "Accuracy: 0.812 || AUROC 0.524 || (Accuracy, Precision) 0:( 0.068, 0.429)  1:( 0.980, 0.824) -> SVM-rbf\n",
      "Accuracy: 0.804 || AUROC 0.545 || (Accuracy, Precision) 0:( 0.136, 0.400)  1:( 0.954, 0.831) -> SMV-linear\n",
      "Accuracy: 0.808 || AUROC 0.521 || (Accuracy, Precision) 0:( 0.068, 0.375)  1:( 0.974, 0.823) -> Gaussian naive bayes\n",
      "Accuracy: 0.796 || AUROC 0.514 || (Accuracy, Precision) 0:( 0.068, 0.273)  1:( 0.959, 0.821) -> Gaussian Process\n",
      "Accuracy: 0.742 || AUROC 0.560 || (Accuracy, Precision) 0:( 0.273, 0.286)  1:( 0.847, 0.838) -> Decision Tree\n",
      "Accuracy: 0.750 || AUROC 0.494 || (Accuracy, Precision) 0:( 0.091, 0.167)  1:( 0.898, 0.815) -> Multi-layer Perceptron\n",
      "Accuracy: 0.767 || AUROC 0.531 || (Accuracy, Precision) 0:( 0.159, 0.269)  1:( 0.903, 0.827) -> AdaBoost\n",
      "Accuracy: 0.783 || AUROC 0.524 || (Accuracy, Precision) 0:( 0.114, 0.278)  1:( 0.934, 0.824) -> Random Forest\n"
     ]
    }
   ],
   "source": [
    "evaluateTechniqueAgaintTestData(robustScaling2)"
   ]
  },
  {
   "cell_type": "code",
   "execution_count": 16,
   "metadata": {},
   "outputs": [
    {
     "name": "stdout",
     "output_type": "stream",
     "text": [
      "Accuracy: 0.796 || AUROC 0.540 || (Accuracy, Precision) 0:( 0.136, 0.353)  1:( 0.944, 0.830) -> Logistic regression\n",
      "Accuracy: 0.779 || AUROC 0.548 || (Accuracy, Precision) 0:( 0.182, 0.320)  1:( 0.913, 0.833) -> SGDClassifier\n",
      "Accuracy: 0.767 || AUROC 0.496 || (Accuracy, Precision) 0:( 0.068, 0.167)  1:( 0.923, 0.815) -> KNearest Neighbors (5)\n",
      "Accuracy: 0.792 || AUROC 0.529 || (Accuracy, Precision) 0:( 0.114, 0.312)  1:( 0.944, 0.826) -> SVM-rbf\n"
     ]
    },
    {
     "name": "stderr",
     "output_type": "stream",
     "text": [
      "/usr/local/lib/python3.7/site-packages/sklearn/linear_model/_logistic.py:939: ConvergenceWarning: lbfgs failed to converge (status=1):\n",
      "STOP: TOTAL NO. of ITERATIONS REACHED LIMIT.\n",
      "\n",
      "Increase the number of iterations (max_iter) or scale the data as shown in:\n",
      "    https://scikit-learn.org/stable/modules/preprocessing.html.\n",
      "Please also refer to the documentation for alternative solver options:\n",
      "    https://scikit-learn.org/stable/modules/linear_model.html#logistic-regression\n",
      "  extra_warning_msg=_LOGISTIC_SOLVER_CONVERGENCE_MSG)\n",
      "/usr/local/lib/python3.7/site-packages/sklearn/svm/_base.py:947: ConvergenceWarning: Liblinear failed to converge, increase the number of iterations.\n",
      "  \"the number of iterations.\", ConvergenceWarning)\n"
     ]
    },
    {
     "name": "stdout",
     "output_type": "stream",
     "text": [
      "Accuracy: 0.804 || AUROC 0.554 || (Accuracy, Precision) 0:( 0.159, 0.412)  1:( 0.949, 0.834) -> SMV-linear\n",
      "Accuracy: 0.804 || AUROC 0.519 || (Accuracy, Precision) 0:( 0.068, 0.333)  1:( 0.969, 0.823) -> Gaussian naive bayes\n",
      "Accuracy: 0.700 || AUROC 0.455 || (Accuracy, Precision) 0:( 0.068, 0.088)  1:( 0.842, 0.801) -> Gaussian Process\n",
      "Accuracy: 0.738 || AUROC 0.548 || (Accuracy, Precision) 0:( 0.250, 0.268)  1:( 0.847, 0.834) -> Decision Tree\n",
      "Accuracy: 0.733 || AUROC 0.511 || (Accuracy, Precision) 0:( 0.159, 0.206)  1:( 0.862, 0.820) -> Multi-layer Perceptron\n",
      "Accuracy: 0.787 || AUROC 0.509 || (Accuracy, Precision) 0:( 0.068, 0.231)  1:( 0.949, 0.819) -> AdaBoost\n",
      "Accuracy: 0.762 || AUROC 0.511 || (Accuracy, Precision) 0:( 0.114, 0.217)  1:( 0.908, 0.820) -> Random Forest\n"
     ]
    }
   ],
   "source": [
    "evaluateTechniqueAgaintTestData(discretize2)"
   ]
  },
  {
   "cell_type": "code",
   "execution_count": 17,
   "metadata": {},
   "outputs": [
    {
     "name": "stdout",
     "output_type": "stream",
     "text": [
      "Accuracy: 0.817 || AUROC 0.500 || (Accuracy, Precision) 0:( 0.000, 0.000)  1:( 1.000, 0.817) -> Logistic regression\n",
      "Accuracy: 0.183 || AUROC 0.500 || (Accuracy, Precision) 0:( 1.000, 0.183)  1:( 0.000, 0.000) -> SGDClassifier\n",
      "Accuracy: 0.775 || AUROC 0.527 || (Accuracy, Precision) 0:( 0.136, 0.273)  1:( 0.918, 0.826) -> KNearest Neighbors (5)\n",
      "Accuracy: 0.817 || AUROC 0.500 || (Accuracy, Precision) 0:( 0.000, 0.000)  1:( 1.000, 0.817) -> SVM-rbf\n",
      "Accuracy: 0.817 || AUROC 0.500 || (Accuracy, Precision) 0:( 0.000, 0.000)  1:( 1.000, 0.817) -> SMV-linear\n",
      "Accuracy: 0.808 || AUROC 0.521 || (Accuracy, Precision) 0:( 0.068, 0.375)  1:( 0.974, 0.823) -> Gaussian naive bayes\n"
     ]
    },
    {
     "name": "stderr",
     "output_type": "stream",
     "text": [
      "/usr/local/lib/python3.7/site-packages/sklearn/metrics/_classification.py:1268: UndefinedMetricWarning: Precision is ill-defined and being set to 0.0 due to no predicted samples. Use `zero_division` parameter to control this behavior.\n",
      "  _warn_prf(average, modifier, msg_start, len(result))\n",
      "/usr/local/lib/python3.7/site-packages/sklearn/metrics/_classification.py:1268: UndefinedMetricWarning: Precision is ill-defined and being set to 0.0 due to no predicted samples. Use `zero_division` parameter to control this behavior.\n",
      "  _warn_prf(average, modifier, msg_start, len(result))\n",
      "/usr/local/lib/python3.7/site-packages/sklearn/metrics/_classification.py:1268: UndefinedMetricWarning: Precision is ill-defined and being set to 0.0 due to no predicted samples. Use `zero_division` parameter to control this behavior.\n",
      "  _warn_prf(average, modifier, msg_start, len(result))\n",
      "/usr/local/lib/python3.7/site-packages/sklearn/metrics/_classification.py:1268: UndefinedMetricWarning: Precision is ill-defined and being set to 0.0 due to no predicted samples. Use `zero_division` parameter to control this behavior.\n",
      "  _warn_prf(average, modifier, msg_start, len(result))\n",
      "/usr/local/lib/python3.7/site-packages/sklearn/metrics/_classification.py:1268: UndefinedMetricWarning: Precision is ill-defined and being set to 0.0 due to no predicted samples. Use `zero_division` parameter to control this behavior.\n",
      "  _warn_prf(average, modifier, msg_start, len(result))\n",
      "/usr/local/lib/python3.7/site-packages/sklearn/metrics/_classification.py:1268: UndefinedMetricWarning: Precision is ill-defined and being set to 0.0 due to no predicted samples. Use `zero_division` parameter to control this behavior.\n",
      "  _warn_prf(average, modifier, msg_start, len(result))\n"
     ]
    },
    {
     "name": "stdout",
     "output_type": "stream",
     "text": [
      "Accuracy: 0.817 || AUROC 0.500 || (Accuracy, Precision) 0:( 0.000, 0.000)  1:( 1.000, 0.817) -> Gaussian Process\n",
      "Accuracy: 0.642 || AUROC 0.481 || (Accuracy, Precision) 0:( 0.227, 0.161)  1:( 0.735, 0.809) -> Decision Tree\n",
      "Accuracy: 0.817 || AUROC 0.500 || (Accuracy, Precision) 0:( 0.000, 0.000)  1:( 1.000, 0.817) -> Multi-layer Perceptron\n",
      "Accuracy: 0.758 || AUROC 0.508 || (Accuracy, Precision) 0:( 0.114, 0.208)  1:( 0.903, 0.819) -> AdaBoost\n",
      "Accuracy: 0.754 || AUROC 0.532 || (Accuracy, Precision) 0:( 0.182, 0.258)  1:( 0.883, 0.828) -> Random Forest\n"
     ]
    }
   ],
   "source": [
    "evaluateTechniqueAgaintTestData(normalize2)"
   ]
  }
 ],
 "metadata": {
  "kernelspec": {
   "display_name": "Python 3",
   "language": "python",
   "name": "python3"
  },
  "language_info": {
   "codemirror_mode": {
    "name": "ipython",
    "version": 3
   },
   "file_extension": ".py",
   "mimetype": "text/x-python",
   "name": "python",
   "nbconvert_exporter": "python",
   "pygments_lexer": "ipython3",
   "version": "3.7.5"
  }
 },
 "nbformat": 4,
 "nbformat_minor": 2
}
