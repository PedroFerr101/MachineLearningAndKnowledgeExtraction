{
 "cells": [
  {
   "cell_type": "code",
   "execution_count": 92,
   "metadata": {},
   "outputs": [],
   "source": [
    "import pandas as pd\n",
    "import numpy as np\n",
    "from sklearn.preprocessing import  RobustScaler\n",
    "from sklearn.utils import shuffle\n",
    "from imblearn.over_sampling import RandomOverSampler\n",
    "from imblearn.over_sampling import SMOTE\n",
    "from imblearn.under_sampling import RandomUnderSampler\n",
    "from imblearn.under_sampling import ClusterCentroids\n",
    "from imblearn.combine import SMOTEENN\n",
    "from sklearn.model_selection import cross_validate\n",
    "from sklearn.naive_bayes import GaussianNB\n",
    "from sklearn.neighbors import KNeighborsClassifier\n",
    "from sklearn.neural_network import MLPClassifier\n",
    "from sklearn.svm import SVC, LinearSVC\n",
    "from sklearn.tree import DecisionTreeClassifier\n",
    "from sklearn.gaussian_process import GaussianProcessClassifier\n",
    "from sklearn.linear_model import LogisticRegression, LinearRegression, SGDClassifier\n",
    "from sklearn.ensemble import RandomForestClassifier, AdaBoostClassifier\n",
    "from sklearn.metrics import make_scorer, recall_score, precision_score, accuracy_score, roc_auc_score\n",
    "\n",
    "\n",
    "%matplotlib inline"
   ]
  },
  {
   "cell_type": "markdown",
   "metadata": {},
   "source": [
    "### Load train and test dataset"
   ]
  },
  {
   "cell_type": "code",
   "execution_count": 44,
   "metadata": {},
   "outputs": [],
   "source": [
    "AbsenteeismAtWork = pd.read_csv('data/train_data.csv', index_col=0)\n",
    "AbsenteeismAtWork['Work load Average/day '] = [x.replace(',', '') for x in AbsenteeismAtWork['Work load Average/day ']]\n",
    "AbsenteeismAtWork['Work load Average/day '] = AbsenteeismAtWork['Work load Average/day '].astype(int)\n",
    "\n",
    "X_train = AbsenteeismAtWork.drop('Absent', 1)\n",
    "y_train =  AbsenteeismAtWork['Absent']\n",
    "X_test = pd.read_csv('data/test_data.csv', index_col=0)\n",
    "y_test = pd.read_csv('data/sample_submission.csv', index_col=0)"
   ]
  },
  {
   "cell_type": "markdown",
   "metadata": {},
   "source": [
    "# Balance Dataset"
   ]
  },
  {
   "cell_type": "markdown",
   "metadata": {},
   "source": [
    "### Up-sample minority class"
   ]
  },
  {
   "cell_type": "markdown",
   "metadata": {},
   "source": [
    "#### Resample with replacement\n",
    "\n",
    "Método mais simples que consiste em replicar aleatoriamente (com reposição) dados da classe minoritária até atingir ratio de 1:1"
   ]
  },
  {
   "cell_type": "code",
   "execution_count": 45,
   "metadata": {},
   "outputs": [],
   "source": [
    "def overSampler(X_train, y_train):\n",
    "    ros = RandomOverSampler()\n",
    "    X_balanced, y_train = ros.fit_sample(X_train, y_train)\n",
    "    X_balanced, y_train = shuffle(X_balanced, y_train)\n",
    "    return X_balanced, y_train;"
   ]
  },
  {
   "cell_type": "markdown",
   "metadata": {},
   "source": [
    "#### SMOTE - Synthetic Minority Over-sampling Technique"
   ]
  },
  {
   "cell_type": "code",
   "execution_count": 46,
   "metadata": {},
   "outputs": [],
   "source": [
    "def smoteSampler(X_train, y_train):\n",
    "    smote = SMOTE(sampling_strategy='minority')\n",
    "    X_balanced, y_train = smote.fit_sample(X_train, y_train)\n",
    "    X_balanced, y_train = shuffle(X_balanced, y_train)\n",
    "    return X_balanced, y_train;"
   ]
  },
  {
   "cell_type": "markdown",
   "metadata": {},
   "source": [
    "### Down-sample majority class"
   ]
  },
  {
   "cell_type": "markdown",
   "metadata": {},
   "source": [
    "#### Resample without replacement"
   ]
  },
  {
   "cell_type": "code",
   "execution_count": 47,
   "metadata": {},
   "outputs": [],
   "source": [
    "def underSampler(X_train, y_train):\n",
    "    rus = RandomUnderSampler()\n",
    "    X_balanced, y_train = rus.fit_sample(X_train, y_train)\n",
    "    X_balanced, y_train = shuffle(X_balanced, y_train)\n",
    "    return X_balanced, y_train;"
   ]
  },
  {
   "cell_type": "markdown",
   "metadata": {},
   "source": [
    "#### Cluster Centroids\n"
   ]
  },
  {
   "cell_type": "code",
   "execution_count": 48,
   "metadata": {},
   "outputs": [],
   "source": [
    "def centroidSampler(X_train, y_train):\n",
    "    cc = ClusterCentroids(sampling_strategy='majority')\n",
    "    X_balanced, y_train = cc.fit_sample(X_train, y_train)\n",
    "    X_balanced, y_train = shuffle(X_balanced, y_train)\n",
    "    return X_balanced, y_train;"
   ]
  },
  {
   "cell_type": "markdown",
   "metadata": {},
   "source": [
    "### Combination of over- and under-sampling"
   ]
  },
  {
   "cell_type": "markdown",
   "metadata": {},
   "source": [
    "#### SMOTE-ENN"
   ]
  },
  {
   "cell_type": "code",
   "execution_count": 82,
   "metadata": {},
   "outputs": [],
   "source": [
    "def smoteeenSampler(X_train, y_train):\n",
    "    smote_enn = SMOTEENN(random_state=0)\n",
    "    X_balanced, y_train = smote_enn.fit_sample(X_train, y_train)\n",
    "    X_balanced, y_train = shuffle(X_balanced, y_train)\n",
    "    return X_balanced, y_train;"
   ]
  },
  {
   "cell_type": "markdown",
   "metadata": {},
   "source": [
    "## Avaliação das diferentes técnicas"
   ]
  },
  {
   "cell_type": "code",
   "execution_count": 79,
   "metadata": {},
   "outputs": [],
   "source": [
    "def robustScaling(X_train):\n",
    "    scaler = RobustScaler()\n",
    "    scaled_data = scaler.fit_transform( X_train )\n",
    "    return scaled_data;\n",
    "\n",
    "def evaluateTechnique(balancer):\n",
    "    X_train = AbsenteeismAtWork.drop('Absent', 1)\n",
    "    y_train =  AbsenteeismAtWork['Absent']\n",
    "\n",
    "    X_train = robustScaling(X_train)\n",
    "    \n",
    "    X_train, y_train = balancer(X_train, y_train)\n",
    "    \n",
    "    classifiers = [\n",
    "        LogisticRegression(),\n",
    "        SGDClassifier(),\n",
    "        KNeighborsClassifier(n_neighbors=5),\n",
    "        SVC(),\n",
    "        LinearSVC(max_iter=10000),\n",
    "        GaussianNB(),\n",
    "        GaussianProcessClassifier(),\n",
    "        DecisionTreeClassifier(),\n",
    "        MLPClassifier(max_iter=10000),\n",
    "        AdaBoostClassifier(),\n",
    "        RandomForestClassifier(),\n",
    "    ]\n",
    "\n",
    "    names = [\n",
    "             \"Logistic regression\", \"SGDClassifier\",\n",
    "             \"KNearest Neighbors (5)\", \n",
    "             \"SVM-rbf\", \"SMV-linear\", \n",
    "             \"Gaussian naive bayes\",\n",
    "             \"Gaussian Process\", \n",
    "             \"Decision Tree\", \n",
    "             \"Multi-layer Perceptron\", \n",
    "             \"AdaBoost\", \"Random Forest\"]\n",
    "\n",
    "\n",
    "    metrics = {'recall0': make_scorer(recall_score, pos_label = 0), \n",
    "               'recall1': make_scorer(recall_score, pos_label = 1),\n",
    "               'precision0': make_scorer(precision_score, pos_label = 0),\n",
    "               'precision1': make_scorer(precision_score, pos_label = 0),\n",
    "               'accuracy' : 'accuracy',\n",
    "               'roc_auc': 'roc_auc'\n",
    "              }\n",
    "\n",
    "    for name, clf in zip(names, classifiers):\n",
    "        scores = cross_validate(clf, X_train, y_train, cv=10, scoring=metrics)\n",
    "        print(\"Accuracy: %0.3f || AUROC %0.3f || (Accuracy, Precision) 0:( %0.3f, %0.3f)  1:( %0.3f, %0.3f) ->\" \n",
    "              % (scores['test_accuracy'].mean(), scores['test_roc_auc'].mean(),\n",
    "                scores['test_recall0'].mean(), scores['test_precision0'].mean(),\n",
    "                scores['test_recall1'].mean(), scores['test_precision1'].mean()), name)\n",
    "        \n",
    "    return;"
   ]
  },
  {
   "cell_type": "code",
   "execution_count": 85,
   "metadata": {},
   "outputs": [
    {
     "name": "stdout",
     "output_type": "stream",
     "text": [
      "Accuracy: 0.732 || AUROC 0.808 || (Accuracy, Precision) 0:( 0.721, 0.738)  1:( 0.742, 0.738) -> Logistic regression\n",
      "Accuracy: 0.671 || AUROC 0.745 || (Accuracy, Precision) 0:( 0.681, 0.681)  1:( 0.660, 0.681) -> SGDClassifier\n",
      "Accuracy: 0.763 || AUROC 0.841 || (Accuracy, Precision) 0:( 0.871, 0.720)  1:( 0.655, 0.720) -> KNearest Neighbors (5)\n",
      "Accuracy: 0.732 || AUROC 0.820 || (Accuracy, Precision) 0:( 0.689, 0.752)  1:( 0.774, 0.752) -> SVM-rbf\n",
      "Accuracy: 0.734 || AUROC 0.811 || (Accuracy, Precision) 0:( 0.747, 0.731)  1:( 0.722, 0.731) -> SMV-linear\n",
      "Accuracy: 0.635 || AUROC 0.690 || (Accuracy, Precision) 0:( 0.271, 1.000)  1:( 1.000, 1.000) -> Gaussian naive bayes\n",
      "Accuracy: 0.832 || AUROC 0.898 || (Accuracy, Precision) 0:( 0.906, 0.791)  1:( 0.757, 0.791) -> Gaussian Process\n",
      "Accuracy: 0.923 || AUROC 0.929 || (Accuracy, Precision) 0:( 0.992, 0.873)  1:( 0.853, 0.873) -> Decision Tree\n",
      "Accuracy: 0.914 || AUROC 0.950 || (Accuracy, Precision) 0:( 0.977, 0.871)  1:( 0.850, 0.871) -> Multi-layer Perceptron\n",
      "Accuracy: 0.800 || AUROC 0.896 || (Accuracy, Precision) 0:( 0.810, 0.797)  1:( 0.790, 0.797) -> AdaBoost\n",
      "Accuracy: 0.930 || AUROC 0.976 || (Accuracy, Precision) 0:( 0.980, 0.896)  1:( 0.881, 0.896) -> Random Forest\n"
     ]
    }
   ],
   "source": [
    "evaluateTechnique(overSampler)"
   ]
  },
  {
   "cell_type": "code",
   "execution_count": 86,
   "metadata": {},
   "outputs": [
    {
     "name": "stdout",
     "output_type": "stream",
     "text": [
      "Accuracy: 0.742 || AUROC 0.821 || (Accuracy, Precision) 0:( 0.745, 0.741)  1:( 0.739, 0.741) -> Logistic regression\n",
      "Accuracy: 0.673 || AUROC 0.769 || (Accuracy, Precision) 0:( 0.640, 0.694)  1:( 0.706, 0.694) -> SGDClassifier\n",
      "Accuracy: 0.758 || AUROC 0.854 || (Accuracy, Precision) 0:( 0.866, 0.715)  1:( 0.651, 0.715) -> KNearest Neighbors (5)\n",
      "Accuracy: 0.766 || AUROC 0.851 || (Accuracy, Precision) 0:( 0.734, 0.785)  1:( 0.798, 0.785) -> SVM-rbf\n",
      "Accuracy: 0.734 || AUROC 0.823 || (Accuracy, Precision) 0:( 0.760, 0.724)  1:( 0.709, 0.724) -> SMV-linear\n",
      "Accuracy: 0.651 || AUROC 0.748 || (Accuracy, Precision) 0:( 0.302, 1.000)  1:( 1.000, 1.000) -> Gaussian naive bayes\n",
      "Accuracy: 0.818 || AUROC 0.891 || (Accuracy, Precision) 0:( 0.899, 0.776)  1:( 0.737, 0.776) -> Gaussian Process\n",
      "Accuracy: 0.842 || AUROC 0.847 || (Accuracy, Precision) 0:( 0.856, 0.836)  1:( 0.828, 0.836) -> Decision Tree\n",
      "Accuracy: 0.881 || AUROC 0.948 || (Accuracy, Precision) 0:( 0.911, 0.862)  1:( 0.851, 0.862) -> Multi-layer Perceptron\n",
      "Accuracy: 0.849 || AUROC 0.927 || (Accuracy, Precision) 0:( 0.843, 0.857)  1:( 0.856, 0.857) -> AdaBoost\n",
      "Accuracy: 0.891 || AUROC 0.951 || (Accuracy, Precision) 0:( 0.886, 0.895)  1:( 0.896, 0.895) -> Random Forest\n"
     ]
    }
   ],
   "source": [
    "evaluateTechnique(smoteSampler)"
   ]
  },
  {
   "cell_type": "code",
   "execution_count": 87,
   "metadata": {},
   "outputs": [
    {
     "name": "stdout",
     "output_type": "stream",
     "text": [
      "Accuracy: 0.629 || AUROC 0.710 || (Accuracy, Precision) 0:( 0.585, 0.662)  1:( 0.678, 0.662) -> Logistic regression\n",
      "Accuracy: 0.614 || AUROC 0.668 || (Accuracy, Precision) 0:( 0.575, 0.641)  1:( 0.658, 0.641) -> SGDClassifier\n",
      "Accuracy: 0.590 || AUROC 0.623 || (Accuracy, Precision) 0:( 0.572, 0.602)  1:( 0.610, 0.602) -> KNearest Neighbors (5)\n",
      "Accuracy: 0.567 || AUROC 0.624 || (Accuracy, Precision) 0:( 0.469, 0.593)  1:( 0.670, 0.593) -> SVM-rbf\n",
      "Accuracy: 0.662 || AUROC 0.754 || (Accuracy, Precision) 0:( 0.631, 0.697)  1:( 0.696, 0.697) -> SMV-linear\n",
      "Accuracy: 0.652 || AUROC 0.657 || (Accuracy, Precision) 0:( 0.308, 1.000)  1:( 1.000, 1.000) -> Gaussian naive bayes\n",
      "Accuracy: 0.571 || AUROC 0.611 || (Accuracy, Precision) 0:( 0.533, 0.591)  1:( 0.609, 0.591) -> Gaussian Process\n",
      "Accuracy: 0.681 || AUROC 0.680 || (Accuracy, Precision) 0:( 0.706, 0.686)  1:( 0.656, 0.686) -> Decision Tree\n",
      "Accuracy: 0.614 || AUROC 0.680 || (Accuracy, Precision) 0:( 0.620, 0.631)  1:( 0.610, 0.631) -> Multi-layer Perceptron\n",
      "Accuracy: 0.695 || AUROC 0.780 || (Accuracy, Precision) 0:( 0.659, 0.737)  1:( 0.734, 0.737) -> AdaBoost\n",
      "Accuracy: 0.652 || AUROC 0.745 || (Accuracy, Precision) 0:( 0.640, 0.676)  1:( 0.670, 0.676) -> Random Forest\n"
     ]
    }
   ],
   "source": [
    "evaluateTechnique(underSampler)"
   ]
  },
  {
   "cell_type": "code",
   "execution_count": 88,
   "metadata": {},
   "outputs": [
    {
     "name": "stdout",
     "output_type": "stream",
     "text": [
      "Accuracy: 0.652 || AUROC 0.721 || (Accuracy, Precision) 0:( 0.618, 0.682)  1:( 0.688, 0.682) -> Logistic regression\n",
      "Accuracy: 0.648 || AUROC 0.701 || (Accuracy, Precision) 0:( 0.559, 0.723)  1:( 0.735, 0.723) -> SGDClassifier\n",
      "Accuracy: 0.586 || AUROC 0.625 || (Accuracy, Precision) 0:( 0.534, 0.602)  1:( 0.637, 0.602) -> KNearest Neighbors (5)\n",
      "Accuracy: 0.538 || AUROC 0.580 || (Accuracy, Precision) 0:( 0.402, 0.562)  1:( 0.679, 0.562) -> SVM-rbf\n",
      "Accuracy: 0.671 || AUROC 0.763 || (Accuracy, Precision) 0:( 0.677, 0.693)  1:( 0.666, 0.693) -> SMV-linear\n",
      "Accuracy: 0.652 || AUROC 0.654 || (Accuracy, Precision) 0:( 0.305, 1.000)  1:( 1.000, 1.000) -> Gaussian naive bayes\n",
      "Accuracy: 0.543 || AUROC 0.545 || (Accuracy, Precision) 0:( 0.497, 0.548)  1:( 0.592, 0.548) -> Gaussian Process\n",
      "Accuracy: 0.838 || AUROC 0.839 || (Accuracy, Precision) 0:( 0.879, 0.825)  1:( 0.799, 0.825) -> Decision Tree\n",
      "Accuracy: 0.605 || AUROC 0.662 || (Accuracy, Precision) 0:( 0.641, 0.608)  1:( 0.572, 0.608) -> Multi-layer Perceptron\n",
      "Accuracy: 0.857 || AUROC 0.915 || (Accuracy, Precision) 0:( 0.889, 0.841)  1:( 0.830, 0.841) -> AdaBoost\n",
      "Accuracy: 0.805 || AUROC 0.895 || (Accuracy, Precision) 0:( 0.858, 0.789)  1:( 0.752, 0.789) -> Random Forest\n"
     ]
    }
   ],
   "source": [
    "evaluateTechnique(centroidSampler)"
   ]
  },
  {
   "cell_type": "code",
   "execution_count": 89,
   "metadata": {},
   "outputs": [
    {
     "name": "stdout",
     "output_type": "stream",
     "text": [
      "Accuracy: 0.828 || AUROC 0.913 || (Accuracy, Precision) 0:( 0.887, 0.840)  1:( 0.743, 0.840) -> Logistic regression\n",
      "Accuracy: 0.789 || AUROC 0.885 || (Accuracy, Precision) 0:( 0.794, 0.849)  1:( 0.784, 0.849) -> SGDClassifier\n",
      "Accuracy: 0.949 || AUROC 0.980 || (Accuracy, Precision) 0:( 0.969, 0.947)  1:( 0.919, 0.947) -> KNearest Neighbors (5)\n",
      "Accuracy: 0.941 || AUROC 0.981 || (Accuracy, Precision) 0:( 0.928, 0.971)  1:( 0.960, 0.971) -> SVM-rbf\n",
      "Accuracy: 0.849 || AUROC 0.934 || (Accuracy, Precision) 0:( 0.887, 0.866)  1:( 0.793, 0.866) -> SMV-linear\n",
      "Accuracy: 0.650 || AUROC 0.859 || (Accuracy, Precision) 0:( 0.426, 0.972)  1:( 0.980, 0.972) -> Gaussian naive bayes\n",
      "Accuracy: 0.971 || AUROC 0.994 || (Accuracy, Precision) 0:( 0.980, 0.973)  1:( 0.960, 0.973) -> Gaussian Process\n",
      "Accuracy: 0.947 || AUROC 0.944 || (Accuracy, Precision) 0:( 0.959, 0.954)  1:( 0.929, 0.954) -> Decision Tree\n",
      "Accuracy: 0.969 || AUROC 0.991 || (Accuracy, Precision) 0:( 0.990, 0.961)  1:( 0.940, 0.961) -> Multi-layer Perceptron\n",
      "Accuracy: 0.926 || AUROC 0.977 || (Accuracy, Precision) 0:( 0.946, 0.933)  1:( 0.899, 0.933) -> AdaBoost\n",
      "Accuracy: 0.969 || AUROC 0.995 || (Accuracy, Precision) 0:( 0.973, 0.976)  1:( 0.965, 0.976) -> Random Forest\n"
     ]
    }
   ],
   "source": [
    "evaluateTechnique(smoteeenSampler)"
   ]
  },
  {
   "cell_type": "markdown",
   "metadata": {},
   "source": [
    "## Avaliar com os dados de teste"
   ]
  },
  {
   "cell_type": "code",
   "execution_count": 96,
   "metadata": {},
   "outputs": [],
   "source": [
    "def robustScaling2(X_train, X_test):\n",
    "    scaler = RobustScaler()\n",
    "    scaled_data = scaler.fit_transform( X_train )\n",
    "    scaled_test = scaler.transform( X_test )\n",
    "    return scaled_data, scaled_test;\n",
    "\n",
    "def evaluateBalancerAgaintTestData(balancer):\n",
    "    X_train = AbsenteeismAtWork.drop('Absent', 1)\n",
    "    y_train =  AbsenteeismAtWork['Absent']\n",
    "    X_test = pd.read_csv('data/test_data.csv', index_col=0)\n",
    "    y_test = pd.read_csv('data/sample_submission.csv', index_col=0)\n",
    "    \n",
    "    X_train, X_test = robustScaling2(X_train, X_test)\n",
    "    \n",
    "    X_train, y_train = balancer(X_train, y_train)\n",
    "    \n",
    "    classifiers = [\n",
    "        LogisticRegression(),\n",
    "        SGDClassifier(),\n",
    "        KNeighborsClassifier(n_neighbors=5),\n",
    "        SVC(),\n",
    "        LinearSVC(max_iter=10000),\n",
    "        GaussianNB(),\n",
    "        GaussianProcessClassifier(),\n",
    "        DecisionTreeClassifier(),\n",
    "        MLPClassifier(max_iter=10000),\n",
    "        AdaBoostClassifier(),\n",
    "        RandomForestClassifier(),\n",
    "    ]\n",
    "\n",
    "    names = [\n",
    "             \"Logistic regression\", \"SGDClassifier\",\n",
    "             \"KNearest Neighbors (5)\", \n",
    "             \"SVM-rbf\", \"SMV-linear\", \n",
    "             \"Gaussian naive bayes\",\n",
    "             \"Gaussian Process\", \n",
    "             \"Decision Tree\", \n",
    "             \"Multi-layer Perceptron\", \n",
    "             \"AdaBoost\", \"Random Forest\"]\n",
    "\n",
    "    for name, clf in zip(names, classifiers):\n",
    "        clf.fit(X_train, y_train)\n",
    "        predicted = clf.predict(X_test)\n",
    "        print(\"Accuracy: %0.3f || AUROC %0.3f || (Accuracy, Precision) 0:( %0.3f, %0.3f)  1:( %0.3f, %0.3f) ->\" \n",
    "              % (accuracy_score(y_test,predicted), roc_auc_score(y_test, predicted),\n",
    "                recall_score(y_test,predicted,pos_label=0), precision_score(y_test,predicted,pos_label=0),\n",
    "                recall_score(y_test,predicted,pos_label=1), precision_score(y_test,predicted,pos_label=1)), name)\n",
    "        \n",
    "    return;\n"
   ]
  },
  {
   "cell_type": "code",
   "execution_count": 98,
   "metadata": {},
   "outputs": [
    {
     "name": "stdout",
     "output_type": "stream",
     "text": [
      "Accuracy: 0.550 || AUROC 0.566 || (Accuracy, Precision) 0:( 0.591, 0.224)  1:( 0.541, 0.855) -> Logistic regression\n",
      "Accuracy: 0.463 || AUROC 0.539 || (Accuracy, Precision) 0:( 0.659, 0.203)  1:( 0.418, 0.845) -> SGDClassifier\n",
      "Accuracy: 0.529 || AUROC 0.535 || (Accuracy, Precision) 0:( 0.545, 0.205)  1:( 0.526, 0.837) -> KNearest Neighbors (5)\n",
      "Accuracy: 0.550 || AUROC 0.513 || (Accuracy, Precision) 0:( 0.455, 0.192)  1:( 0.571, 0.824) -> SVM-rbf\n",
      "Accuracy: 0.554 || AUROC 0.551 || (Accuracy, Precision) 0:( 0.545, 0.216)  1:( 0.556, 0.845) -> SMV-linear\n",
      "Accuracy: 0.771 || AUROC 0.542 || (Accuracy, Precision) 0:( 0.182, 0.296)  1:( 0.903, 0.831) -> Gaussian naive bayes\n",
      "Accuracy: 0.537 || AUROC 0.523 || (Accuracy, Precision) 0:( 0.500, 0.198)  1:( 0.546, 0.829) -> Gaussian Process\n",
      "Accuracy: 0.571 || AUROC 0.490 || (Accuracy, Precision) 0:( 0.364, 0.176)  1:( 0.617, 0.812) -> Decision Tree\n",
      "Accuracy: 0.604 || AUROC 0.520 || (Accuracy, Precision) 0:( 0.386, 0.200)  1:( 0.653, 0.826) -> Multi-layer Perceptron\n",
      "Accuracy: 0.529 || AUROC 0.553 || (Accuracy, Precision) 0:( 0.591, 0.215)  1:( 0.515, 0.849) -> AdaBoost\n",
      "Accuracy: 0.575 || AUROC 0.502 || (Accuracy, Precision) 0:( 0.386, 0.185)  1:( 0.617, 0.818) -> Random Forest\n"
     ]
    }
   ],
   "source": [
    "evaluateBalancerAgaintTestData(overSampler)"
   ]
  },
  {
   "cell_type": "code",
   "execution_count": 100,
   "metadata": {},
   "outputs": [
    {
     "name": "stdout",
     "output_type": "stream",
     "text": [
      "Accuracy: 0.692 || AUROC 0.529 || (Accuracy, Precision) 0:( 0.273, 0.222)  1:( 0.786, 0.828) -> Logistic regression\n",
      "Accuracy: 0.521 || AUROC 0.513 || (Accuracy, Precision) 0:( 0.500, 0.191)  1:( 0.526, 0.824) -> SGDClassifier\n",
      "Accuracy: 0.617 || AUROC 0.492 || (Accuracy, Precision) 0:( 0.295, 0.176)  1:( 0.689, 0.813) -> KNearest Neighbors (5)\n",
      "Accuracy: 0.733 || AUROC 0.519 || (Accuracy, Precision) 0:( 0.182, 0.222)  1:( 0.857, 0.824) -> SVM-rbf\n",
      "Accuracy: 0.654 || AUROC 0.524 || (Accuracy, Precision) 0:( 0.318, 0.209)  1:( 0.730, 0.827) -> SMV-linear\n",
      "Accuracy: 0.808 || AUROC 0.521 || (Accuracy, Precision) 0:( 0.068, 0.375)  1:( 0.974, 0.823) -> Gaussian naive bayes\n",
      "Accuracy: 0.704 || AUROC 0.519 || (Accuracy, Precision) 0:( 0.227, 0.213)  1:( 0.811, 0.824) -> Gaussian Process\n",
      "Accuracy: 0.629 || AUROC 0.553 || (Accuracy, Precision) 0:( 0.432, 0.229)  1:( 0.673, 0.841) -> Decision Tree\n",
      "Accuracy: 0.729 || AUROC 0.490 || (Accuracy, Precision) 0:( 0.114, 0.161)  1:( 0.867, 0.813) -> Multi-layer Perceptron\n",
      "Accuracy: 0.675 || AUROC 0.466 || (Accuracy, Precision) 0:( 0.136, 0.130)  1:( 0.796, 0.804) -> AdaBoost\n",
      "Accuracy: 0.762 || AUROC 0.511 || (Accuracy, Precision) 0:( 0.114, 0.217)  1:( 0.908, 0.820) -> Random Forest\n"
     ]
    }
   ],
   "source": [
    "evaluateBalancerAgaintTestData(smoteSampler)"
   ]
  },
  {
   "cell_type": "code",
   "execution_count": 101,
   "metadata": {},
   "outputs": [
    {
     "name": "stdout",
     "output_type": "stream",
     "text": [
      "Accuracy: 0.692 || AUROC 0.556 || (Accuracy, Precision) 0:( 0.341, 0.250)  1:( 0.770, 0.839) -> Logistic regression\n",
      "Accuracy: 0.404 || AUROC 0.538 || (Accuracy, Precision) 0:( 0.750, 0.200)  1:( 0.327, 0.853) -> SGDClassifier\n",
      "Accuracy: 0.583 || AUROC 0.498 || (Accuracy, Precision) 0:( 0.364, 0.182)  1:( 0.633, 0.816) -> KNearest Neighbors (5)\n",
      "Accuracy: 0.738 || AUROC 0.566 || (Accuracy, Precision) 0:( 0.295, 0.289)  1:( 0.837, 0.841) -> SVM-rbf\n",
      "Accuracy: 0.650 || AUROC 0.574 || (Accuracy, Precision) 0:( 0.455, 0.250)  1:( 0.694, 0.850) -> SMV-linear\n",
      "Accuracy: 0.804 || AUROC 0.519 || (Accuracy, Precision) 0:( 0.068, 0.333)  1:( 0.969, 0.823) -> Gaussian naive bayes\n",
      "Accuracy: 0.617 || AUROC 0.519 || (Accuracy, Precision) 0:( 0.364, 0.200)  1:( 0.673, 0.825) -> Gaussian Process\n",
      "Accuracy: 0.537 || AUROC 0.523 || (Accuracy, Precision) 0:( 0.500, 0.198)  1:( 0.546, 0.829) -> Decision Tree\n",
      "Accuracy: 0.629 || AUROC 0.535 || (Accuracy, Precision) 0:( 0.386, 0.215)  1:( 0.684, 0.832) -> Multi-layer Perceptron\n",
      "Accuracy: 0.512 || AUROC 0.508 || (Accuracy, Precision) 0:( 0.500, 0.188)  1:( 0.515, 0.821) -> AdaBoost\n",
      "Accuracy: 0.617 || AUROC 0.519 || (Accuracy, Precision) 0:( 0.364, 0.200)  1:( 0.673, 0.825) -> Random Forest\n"
     ]
    }
   ],
   "source": [
    "evaluateBalancerAgaintTestData(underSampler)"
   ]
  },
  {
   "cell_type": "code",
   "execution_count": 99,
   "metadata": {},
   "outputs": [
    {
     "name": "stdout",
     "output_type": "stream",
     "text": [
      "Accuracy: 0.575 || AUROC 0.590 || (Accuracy, Precision) 0:( 0.614, 0.241)  1:( 0.566, 0.867) -> Logistic regression\n",
      "Accuracy: 0.562 || AUROC 0.521 || (Accuracy, Precision) 0:( 0.455, 0.198)  1:( 0.587, 0.827) -> SGDClassifier\n",
      "Accuracy: 0.658 || AUROC 0.491 || (Accuracy, Precision) 0:( 0.227, 0.172)  1:( 0.755, 0.813) -> KNearest Neighbors (5)\n",
      "Accuracy: 0.675 || AUROC 0.537 || (Accuracy, Precision) 0:( 0.318, 0.226)  1:( 0.755, 0.831) -> SVM-rbf\n",
      "Accuracy: 0.546 || AUROC 0.546 || (Accuracy, Precision) 0:( 0.545, 0.212)  1:( 0.546, 0.843) -> SMV-linear\n",
      "Accuracy: 0.808 || AUROC 0.521 || (Accuracy, Precision) 0:( 0.068, 0.375)  1:( 0.974, 0.823) -> Gaussian naive bayes\n",
      "Accuracy: 0.667 || AUROC 0.487 || (Accuracy, Precision) 0:( 0.205, 0.167)  1:( 0.770, 0.812) -> Gaussian Process\n",
      "Accuracy: 0.592 || AUROC 0.512 || (Accuracy, Precision) 0:( 0.386, 0.193)  1:( 0.638, 0.822) -> Decision Tree\n",
      "Accuracy: 0.650 || AUROC 0.530 || (Accuracy, Precision) 0:( 0.341, 0.214)  1:( 0.719, 0.829) -> Multi-layer Perceptron\n",
      "Accuracy: 0.600 || AUROC 0.508 || (Accuracy, Precision) 0:( 0.364, 0.190)  1:( 0.653, 0.821) -> AdaBoost\n",
      "Accuracy: 0.588 || AUROC 0.501 || (Accuracy, Precision) 0:( 0.364, 0.184)  1:( 0.638, 0.817) -> Random Forest\n"
     ]
    }
   ],
   "source": [
    "evaluateBalancerAgaintTestData(centroidSampler)"
   ]
  },
  {
   "cell_type": "code",
   "execution_count": 102,
   "metadata": {},
   "outputs": [
    {
     "name": "stdout",
     "output_type": "stream",
     "text": [
      "Accuracy: 0.550 || AUROC 0.566 || (Accuracy, Precision) 0:( 0.591, 0.224)  1:( 0.541, 0.855) -> Logistic regression\n",
      "Accuracy: 0.525 || AUROC 0.568 || (Accuracy, Precision) 0:( 0.636, 0.222)  1:( 0.500, 0.860) -> SGDClassifier\n",
      "Accuracy: 0.529 || AUROC 0.535 || (Accuracy, Precision) 0:( 0.545, 0.205)  1:( 0.526, 0.837) -> KNearest Neighbors (5)\n",
      "Accuracy: 0.550 || AUROC 0.513 || (Accuracy, Precision) 0:( 0.455, 0.192)  1:( 0.571, 0.824) -> SVM-rbf\n",
      "Accuracy: 0.554 || AUROC 0.551 || (Accuracy, Precision) 0:( 0.545, 0.216)  1:( 0.556, 0.845) -> SMV-linear\n",
      "Accuracy: 0.771 || AUROC 0.542 || (Accuracy, Precision) 0:( 0.182, 0.296)  1:( 0.903, 0.831) -> Gaussian naive bayes\n",
      "Accuracy: 0.537 || AUROC 0.523 || (Accuracy, Precision) 0:( 0.500, 0.198)  1:( 0.546, 0.829) -> Gaussian Process\n",
      "Accuracy: 0.542 || AUROC 0.490 || (Accuracy, Precision) 0:( 0.409, 0.176)  1:( 0.571, 0.812) -> Decision Tree\n",
      "Accuracy: 0.617 || AUROC 0.527 || (Accuracy, Precision) 0:( 0.386, 0.207)  1:( 0.668, 0.829) -> Multi-layer Perceptron\n",
      "Accuracy: 0.529 || AUROC 0.553 || (Accuracy, Precision) 0:( 0.591, 0.215)  1:( 0.515, 0.849) -> AdaBoost\n",
      "Accuracy: 0.571 || AUROC 0.517 || (Accuracy, Precision) 0:( 0.432, 0.196)  1:( 0.602, 0.825) -> Random Forest\n"
     ]
    }
   ],
   "source": [
    "evaluateBalancerAgaintTestData(smoteeenSampler)"
   ]
  }
 ],
 "metadata": {
  "kernelspec": {
   "display_name": "Python 3",
   "language": "python",
   "name": "python3"
  },
  "language_info": {
   "codemirror_mode": {
    "name": "ipython",
    "version": 3
   },
   "file_extension": ".py",
   "mimetype": "text/x-python",
   "name": "python",
   "nbconvert_exporter": "python",
   "pygments_lexer": "ipython3",
   "version": "3.7.5"
  }
 },
 "nbformat": 4,
 "nbformat_minor": 2
}
