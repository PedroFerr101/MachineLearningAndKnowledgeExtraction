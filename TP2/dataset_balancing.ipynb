{
 "cells": [
  {
   "cell_type": "code",
   "execution_count": 17,
   "metadata": {},
   "outputs": [],
   "source": [
    "import pandas as pd\n",
    "import numpy as np\n",
    "from sklearn.preprocessing import  RobustScaler\n",
    "from sklearn.utils import shuffle\n",
    "from imblearn.over_sampling import RandomOverSampler\n",
    "from imblearn.over_sampling import SMOTE\n",
    "from imblearn.under_sampling import RandomUnderSampler\n",
    "from imblearn.under_sampling import ClusterCentroids\n",
    "from imblearn.combine import SMOTEENN\n",
    "from sklearn.model_selection import cross_validate\n",
    "from sklearn.naive_bayes import GaussianNB\n",
    "from sklearn.neighbors import KNeighborsClassifier\n",
    "from sklearn.neural_network import MLPClassifier\n",
    "from sklearn.svm import SVC, LinearSVC\n",
    "from sklearn.tree import DecisionTreeClassifier\n",
    "from sklearn.gaussian_process import GaussianProcessClassifier\n",
    "from sklearn.linear_model import LogisticRegression, LinearRegression, SGDClassifier\n",
    "from sklearn.ensemble import RandomForestClassifier, AdaBoostClassifier\n",
    "from imblearn.ensemble import RUSBoostClassifier\n",
    "from sklearn.metrics import make_scorer, recall_score, precision_score, accuracy_score, roc_auc_score\n",
    "\n",
    "\n",
    "%matplotlib inline"
   ]
  },
  {
   "cell_type": "markdown",
   "metadata": {},
   "source": [
    "### Load train and test dataset"
   ]
  },
  {
   "cell_type": "code",
   "execution_count": 18,
   "metadata": {},
   "outputs": [],
   "source": [
    "AbsenteeismAtWork = pd.read_csv('data/train_data.csv', index_col=0)\n",
    "AbsenteeismAtWork['Work load Average/day '] = [x.replace(',', '') for x in AbsenteeismAtWork['Work load Average/day ']]\n",
    "AbsenteeismAtWork['Work load Average/day '] = AbsenteeismAtWork['Work load Average/day '].astype(int)\n",
    "\n",
    "X_train = AbsenteeismAtWork.drop('Absent', 1)\n",
    "y_train =  AbsenteeismAtWork['Absent']\n",
    "X_test = pd.read_csv('data/test_data.csv', index_col=0)\n",
    "y_test = pd.read_csv('data/sample_submission.csv', index_col=0)"
   ]
  },
  {
   "cell_type": "markdown",
   "metadata": {},
   "source": [
    "# Balance Dataset"
   ]
  },
  {
   "cell_type": "markdown",
   "metadata": {},
   "source": [
    "### Up-sample minority class"
   ]
  },
  {
   "cell_type": "markdown",
   "metadata": {},
   "source": [
    "#### Resample with replacement\n",
    "\n",
    "Método mais simples que consiste em replicar aleatoriamente (com reposição) dados da classe minoritária até atingir ratio de 1:1"
   ]
  },
  {
   "cell_type": "code",
   "execution_count": 19,
   "metadata": {},
   "outputs": [],
   "source": [
    "def overSampler(X_train, y_train):\n",
    "    ros = RandomOverSampler()\n",
    "    X_balanced, y_train = ros.fit_sample(X_train, y_train)\n",
    "    X_balanced, y_train = shuffle(X_balanced, y_train)\n",
    "    return X_balanced, y_train;"
   ]
  },
  {
   "cell_type": "markdown",
   "metadata": {},
   "source": [
    "#### SMOTE - Synthetic Minority Over-sampling Technique"
   ]
  },
  {
   "cell_type": "code",
   "execution_count": 20,
   "metadata": {},
   "outputs": [],
   "source": [
    "def smoteSampler(X_train, y_train):\n",
    "    smote = SMOTE(sampling_strategy='minority')\n",
    "    X_balanced, y_train = smote.fit_sample(X_train, y_train)\n",
    "    X_balanced, y_train = shuffle(X_balanced, y_train)\n",
    "    return X_balanced, y_train;"
   ]
  },
  {
   "cell_type": "markdown",
   "metadata": {},
   "source": [
    "### Down-sample majority class"
   ]
  },
  {
   "cell_type": "markdown",
   "metadata": {},
   "source": [
    "#### Resample without replacement"
   ]
  },
  {
   "cell_type": "code",
   "execution_count": 21,
   "metadata": {},
   "outputs": [],
   "source": [
    "def underSampler(X_train, y_train):\n",
    "    rus = RandomUnderSampler()\n",
    "    X_balanced, y_train = rus.fit_sample(X_train, y_train)\n",
    "    X_balanced, y_train = shuffle(X_balanced, y_train)\n",
    "    return X_balanced, y_train;"
   ]
  },
  {
   "cell_type": "markdown",
   "metadata": {},
   "source": [
    "#### Cluster Centroids\n"
   ]
  },
  {
   "cell_type": "code",
   "execution_count": 22,
   "metadata": {},
   "outputs": [],
   "source": [
    "def centroidSampler(X_train, y_train):\n",
    "    cc = ClusterCentroids(sampling_strategy='majority')\n",
    "    X_balanced, y_train = cc.fit_sample(X_train, y_train)\n",
    "    X_balanced, y_train = shuffle(X_balanced, y_train)\n",
    "    return X_balanced, y_train;"
   ]
  },
  {
   "cell_type": "markdown",
   "metadata": {},
   "source": [
    "### Combination of over- and under-sampling"
   ]
  },
  {
   "cell_type": "markdown",
   "metadata": {},
   "source": [
    "#### SMOTE-ENN"
   ]
  },
  {
   "cell_type": "code",
   "execution_count": 23,
   "metadata": {},
   "outputs": [],
   "source": [
    "def smoteeenSampler(X_train, y_train):\n",
    "    smote_enn = SMOTEENN(random_state=0)\n",
    "    X_balanced, y_train = smote_enn.fit_sample(X_train, y_train)\n",
    "    X_balanced, y_train = shuffle(X_balanced, y_train)\n",
    "    return X_balanced, y_train;"
   ]
  },
  {
   "cell_type": "markdown",
   "metadata": {},
   "source": [
    "## Avaliação das diferentes técnicas"
   ]
  },
  {
   "cell_type": "code",
   "execution_count": 24,
   "metadata": {},
   "outputs": [],
   "source": [
    "def robustScaling(X_train):\n",
    "    scaler = RobustScaler()\n",
    "    scaled_data = scaler.fit_transform( X_train )\n",
    "    return scaled_data;\n",
    "\n",
    "def evaluateTechnique(balancer):\n",
    "    X_train = AbsenteeismAtWork.drop('Absent', 1)\n",
    "    y_train =  AbsenteeismAtWork['Absent']\n",
    "\n",
    "    X_train = robustScaling(X_train)\n",
    "    \n",
    "    X_train, y_train = balancer(X_train, y_train)\n",
    "    \n",
    "    classifiers = [\n",
    "        LogisticRegression(class_weight='balanced'),\n",
    "        SGDClassifier(class_weight='balanced'),\n",
    "        KNeighborsClassifier(n_neighbors=5),\n",
    "        SVC(class_weight='balanced'),\n",
    "        LinearSVC(max_iter=10000, class_weight='balanced'),\n",
    "        GaussianNB(),\n",
    "        GaussianProcessClassifier(),\n",
    "        DecisionTreeClassifier(class_weight='balanced'),\n",
    "        MLPClassifier(max_iter=10000),\n",
    "        AdaBoostClassifier(),\n",
    "        RandomForestClassifier(class_weight='balanced'),\n",
    "    ]\n",
    "    \n",
    "    \n",
    "    names = [\n",
    "             \"Logistic regression\", \"SGDClassifier\",\n",
    "             \"KNearest Neighbors (5)\", \n",
    "             \"SVM-rbf\", \"SMV-linear\", \n",
    "             \"Gaussian naive bayes\",\n",
    "             \"Gaussian Process\", \n",
    "             \"Decision Tree\", \n",
    "             \"Multi-layer Perceptron\", \n",
    "             \"AdaBoost\", \"Random Forest\"]\n",
    "\n",
    "\n",
    "    metrics = {'recall0': make_scorer(recall_score, pos_label = 0), \n",
    "               'recall1': make_scorer(recall_score, pos_label = 1),\n",
    "               'precision0': make_scorer(precision_score, pos_label = 0),\n",
    "               'precision1': make_scorer(precision_score, pos_label = 0),\n",
    "               'accuracy' : 'accuracy',\n",
    "               'roc_auc': 'roc_auc'\n",
    "              }\n",
    "\n",
    "    for name, clf in zip(names, classifiers):\n",
    "        scores = cross_validate(clf, X_train, y_train, cv=10, scoring=metrics)\n",
    "        print(\"Accuracy: %0.3f || AUROC %0.3f || (Accuracy, Precision) 0:( %0.3f, %0.3f)  1:( %0.3f, %0.3f) ->\" \n",
    "              % (scores['test_accuracy'].mean(), scores['test_roc_auc'].mean(),\n",
    "                scores['test_recall0'].mean(), scores['test_precision0'].mean(),\n",
    "                scores['test_recall1'].mean(), scores['test_precision1'].mean()), name)\n",
    "        \n",
    "    return;"
   ]
  },
  {
   "cell_type": "code",
   "execution_count": 25,
   "metadata": {},
   "outputs": [
    {
     "name": "stdout",
     "output_type": "stream",
     "text": [
      "Accuracy: 0.741 || AUROC 0.803 || (Accuracy, Precision) 0:( 0.711, 0.758)  1:( 0.769, 0.758) -> Logistic regression\n",
      "Accuracy: 0.677 || AUROC 0.746 || (Accuracy, Precision) 0:( 0.688, 0.695)  1:( 0.666, 0.695) -> SGDClassifier\n",
      "Accuracy: 0.753 || AUROC 0.835 || (Accuracy, Precision) 0:( 0.879, 0.703)  1:( 0.628, 0.703) -> KNearest Neighbors (5)\n",
      "Accuracy: 0.771 || AUROC 0.835 || (Accuracy, Precision) 0:( 0.769, 0.773)  1:( 0.772, 0.773) -> SVM-rbf\n",
      "Accuracy: 0.716 || AUROC 0.804 || (Accuracy, Precision) 0:( 0.688, 0.732)  1:( 0.744, 0.732) -> SMV-linear\n",
      "Accuracy: 0.658 || AUROC 0.689 || (Accuracy, Precision) 0:( 0.316, 1.000)  1:( 1.000, 1.000) -> Gaussian naive bayes\n",
      "Accuracy: 0.814 || AUROC 0.903 || (Accuracy, Precision) 0:( 0.863, 0.788)  1:( 0.765, 0.788) -> Gaussian Process\n",
      "Accuracy: 0.928 || AUROC 0.930 || (Accuracy, Precision) 0:( 0.975, 0.893)  1:( 0.881, 0.893) -> Decision Tree\n",
      "Accuracy: 0.910 || AUROC 0.954 || (Accuracy, Precision) 0:( 0.970, 0.869)  1:( 0.851, 0.869) -> Multi-layer Perceptron\n",
      "Accuracy: 0.806 || AUROC 0.902 || (Accuracy, Precision) 0:( 0.812, 0.803)  1:( 0.800, 0.803) -> AdaBoost\n",
      "Accuracy: 0.925 || AUROC 0.974 || (Accuracy, Precision) 0:( 0.975, 0.888)  1:( 0.876, 0.888) -> Random Forest\n"
     ]
    }
   ],
   "source": [
    "evaluateTechnique(overSampler)"
   ]
  },
  {
   "cell_type": "code",
   "execution_count": 26,
   "metadata": {},
   "outputs": [
    {
     "name": "stdout",
     "output_type": "stream",
     "text": [
      "Accuracy: 0.719 || AUROC 0.809 || (Accuracy, Precision) 0:( 0.686, 0.736)  1:( 0.752, 0.736) -> Logistic regression\n",
      "Accuracy: 0.694 || AUROC 0.782 || (Accuracy, Precision) 0:( 0.703, 0.713)  1:( 0.683, 0.713) -> SGDClassifier\n",
      "Accuracy: 0.758 || AUROC 0.856 || (Accuracy, Precision) 0:( 0.878, 0.709)  1:( 0.638, 0.709) -> KNearest Neighbors (5)\n",
      "Accuracy: 0.756 || AUROC 0.846 || (Accuracy, Precision) 0:( 0.734, 0.770)  1:( 0.777, 0.770) -> SVM-rbf\n",
      "Accuracy: 0.715 || AUROC 0.813 || (Accuracy, Precision) 0:( 0.701, 0.722)  1:( 0.729, 0.722) -> SMV-linear\n",
      "Accuracy: 0.671 || AUROC 0.732 || (Accuracy, Precision) 0:( 0.342, 1.000)  1:( 1.000, 1.000) -> Gaussian naive bayes\n",
      "Accuracy: 0.811 || AUROC 0.891 || (Accuracy, Precision) 0:( 0.901, 0.767)  1:( 0.721, 0.767) -> Gaussian Process\n",
      "Accuracy: 0.847 || AUROC 0.854 || (Accuracy, Precision) 0:( 0.863, 0.837)  1:( 0.830, 0.837) -> Decision Tree\n",
      "Accuracy: 0.887 || AUROC 0.946 || (Accuracy, Precision) 0:( 0.939, 0.852)  1:( 0.835, 0.852) -> Multi-layer Perceptron\n",
      "Accuracy: 0.844 || AUROC 0.923 || (Accuracy, Precision) 0:( 0.818, 0.867)  1:( 0.871, 0.867) -> AdaBoost\n",
      "Accuracy: 0.894 || AUROC 0.952 || (Accuracy, Precision) 0:( 0.889, 0.901)  1:( 0.898, 0.901) -> Random Forest\n"
     ]
    }
   ],
   "source": [
    "evaluateTechnique(smoteSampler)"
   ]
  },
  {
   "cell_type": "code",
   "execution_count": 27,
   "metadata": {},
   "outputs": [
    {
     "name": "stdout",
     "output_type": "stream",
     "text": [
      "Accuracy: 0.671 || AUROC 0.737 || (Accuracy, Precision) 0:( 0.619, 0.690)  1:( 0.724, 0.690) -> Logistic regression\n",
      "Accuracy: 0.638 || AUROC 0.697 || (Accuracy, Precision) 0:( 0.646, 0.642)  1:( 0.629, 0.642) -> SGDClassifier\n",
      "Accuracy: 0.633 || AUROC 0.645 || (Accuracy, Precision) 0:( 0.577, 0.668)  1:( 0.697, 0.668) -> KNearest Neighbors (5)\n",
      "Accuracy: 0.638 || AUROC 0.688 || (Accuracy, Precision) 0:( 0.545, 0.679)  1:( 0.736, 0.679) -> SVM-rbf\n",
      "Accuracy: 0.671 || AUROC 0.766 || (Accuracy, Precision) 0:( 0.625, 0.684)  1:( 0.713, 0.684) -> SMV-linear\n",
      "Accuracy: 0.652 || AUROC 0.675 || (Accuracy, Precision) 0:( 0.305, 1.000)  1:( 1.000, 1.000) -> Gaussian naive bayes\n",
      "Accuracy: 0.600 || AUROC 0.627 || (Accuracy, Precision) 0:( 0.556, 0.618)  1:( 0.651, 0.618) -> Gaussian Process\n",
      "Accuracy: 0.743 || AUROC 0.743 || (Accuracy, Precision) 0:( 0.752, 0.745)  1:( 0.734, 0.745) -> Decision Tree\n",
      "Accuracy: 0.671 || AUROC 0.698 || (Accuracy, Precision) 0:( 0.687, 0.673)  1:( 0.658, 0.673) -> Multi-layer Perceptron\n",
      "Accuracy: 0.748 || AUROC 0.787 || (Accuracy, Precision) 0:( 0.780, 0.742)  1:( 0.713, 0.742) -> AdaBoost\n",
      "Accuracy: 0.724 || AUROC 0.803 || (Accuracy, Precision) 0:( 0.714, 0.742)  1:( 0.736, 0.742) -> Random Forest\n"
     ]
    }
   ],
   "source": [
    "evaluateTechnique(underSampler)"
   ]
  },
  {
   "cell_type": "code",
   "execution_count": 28,
   "metadata": {},
   "outputs": [
    {
     "name": "stdout",
     "output_type": "stream",
     "text": [
      "Accuracy: 0.686 || AUROC 0.749 || (Accuracy, Precision) 0:( 0.620, 0.762)  1:( 0.755, 0.762) -> Logistic regression\n",
      "Accuracy: 0.624 || AUROC 0.685 || (Accuracy, Precision) 0:( 0.603, 0.646)  1:( 0.651, 0.646) -> SGDClassifier\n",
      "Accuracy: 0.567 || AUROC 0.630 || (Accuracy, Precision) 0:( 0.525, 0.580)  1:( 0.609, 0.580) -> KNearest Neighbors (5)\n",
      "Accuracy: 0.576 || AUROC 0.620 || (Accuracy, Precision) 0:( 0.440, 0.608)  1:( 0.716, 0.608) -> SVM-rbf\n",
      "Accuracy: 0.700 || AUROC 0.774 || (Accuracy, Precision) 0:( 0.676, 0.722)  1:( 0.725, 0.722) -> SMV-linear\n",
      "Accuracy: 0.652 || AUROC 0.695 || (Accuracy, Precision) 0:( 0.305, 1.000)  1:( 1.000, 1.000) -> Gaussian naive bayes\n",
      "Accuracy: 0.529 || AUROC 0.540 || (Accuracy, Precision) 0:( 0.526, 0.529)  1:( 0.534, 0.529) -> Gaussian Process\n",
      "Accuracy: 0.814 || AUROC 0.813 || (Accuracy, Precision) 0:( 0.856, 0.796)  1:( 0.770, 0.796) -> Decision Tree\n",
      "Accuracy: 0.643 || AUROC 0.673 || (Accuracy, Precision) 0:( 0.671, 0.648)  1:( 0.620, 0.648) -> Multi-layer Perceptron\n",
      "Accuracy: 0.862 || AUROC 0.928 || (Accuracy, Precision) 0:( 0.884, 0.850)  1:( 0.839, 0.850) -> AdaBoost\n",
      "Accuracy: 0.829 || AUROC 0.890 || (Accuracy, Precision) 0:( 0.875, 0.804)  1:( 0.783, 0.804) -> Random Forest\n"
     ]
    }
   ],
   "source": [
    "evaluateTechnique(centroidSampler)"
   ]
  },
  {
   "cell_type": "code",
   "execution_count": 29,
   "metadata": {},
   "outputs": [
    {
     "name": "stdout",
     "output_type": "stream",
     "text": [
      "Accuracy: 0.830 || AUROC 0.919 || (Accuracy, Precision) 0:( 0.818, 0.892)  1:( 0.849, 0.892) -> Logistic regression\n",
      "Accuracy: 0.826 || AUROC 0.903 || (Accuracy, Precision) 0:( 0.808, 0.898)  1:( 0.853, 0.898) -> SGDClassifier\n",
      "Accuracy: 0.951 || AUROC 0.986 || (Accuracy, Precision) 0:( 0.990, 0.934)  1:( 0.893, 0.934) -> KNearest Neighbors (5)\n",
      "Accuracy: 0.930 || AUROC 0.983 || (Accuracy, Precision) 0:( 0.904, 0.978)  1:( 0.970, 0.978) -> SVM-rbf\n",
      "Accuracy: 0.857 || AUROC 0.933 || (Accuracy, Precision) 0:( 0.852, 0.905)  1:( 0.863, 0.905) -> SMV-linear\n",
      "Accuracy: 0.646 || AUROC 0.851 || (Accuracy, Precision) 0:( 0.426, 0.956)  1:( 0.969, 0.956) -> Gaussian naive bayes\n",
      "Accuracy: 0.980 || AUROC 0.996 || (Accuracy, Precision) 0:( 0.990, 0.977)  1:( 0.965, 0.977) -> Gaussian Process\n",
      "Accuracy: 0.939 || AUROC 0.932 || (Accuracy, Precision) 0:( 0.966, 0.936)  1:( 0.899, 0.936) -> Decision Tree\n",
      "Accuracy: 0.975 || AUROC 0.993 || (Accuracy, Precision) 0:( 0.990, 0.970)  1:( 0.954, 0.970) -> Multi-layer Perceptron\n",
      "Accuracy: 0.916 || AUROC 0.971 || (Accuracy, Precision) 0:( 0.931, 0.929)  1:( 0.893, 0.929) -> AdaBoost\n",
      "Accuracy: 0.975 || AUROC 0.996 || (Accuracy, Precision) 0:( 0.976, 0.983)  1:( 0.974, 0.983) -> Random Forest\n"
     ]
    }
   ],
   "source": [
    "evaluateTechnique(smoteeenSampler)"
   ]
  },
  {
   "cell_type": "markdown",
   "metadata": {},
   "source": [
    "## Avaliar com os dados de teste"
   ]
  },
  {
   "cell_type": "code",
   "execution_count": 31,
   "metadata": {},
   "outputs": [],
   "source": [
    "def robustScaling2(X_train, X_test):\n",
    "    scaler = RobustScaler()\n",
    "    scaled_data = scaler.fit_transform( X_train )\n",
    "    scaled_test = scaler.transform( X_test )\n",
    "    return scaled_data, scaled_test;\n",
    "\n",
    "def discretize2(X_train, X_test):\n",
    "    featuresToDiscretize = ['Transportation expense', 'Distance from Residence to Work', 'Service time', 'Age', 'Work load Average/day ', 'Hit target', 'Weight', 'Height', 'Body mass index']\n",
    "    discretizer = KBinsDiscretizer(n_bins=5, encode='ordinal', strategy='uniform')\n",
    "    X_train[featuresToDiscretize] = discretizer.fit_transform(X_train[featuresToDiscretize])\n",
    "    X_test[featuresToDiscretize] = discretizer.transform(X_test[featuresToDiscretize])\n",
    "    return X_train, X_test;\n",
    "\n",
    "def evaluateBalancerAgaintTestData(balancer):\n",
    "    X_train = AbsenteeismAtWork.drop('Absent', 1)\n",
    "    y_train =  AbsenteeismAtWork['Absent']\n",
    "    X_test = pd.read_csv('data/test_data.csv', index_col=0)\n",
    "    y_test = pd.read_csv('data/sample_submission.csv', index_col=0)\n",
    "    \n",
    "    X_train, X_test = robustScaling2(X_train, X_test)\n",
    "    \n",
    "    X_train, y_train = balancer(X_train, y_train)\n",
    "    \n",
    "    classifiers = [\n",
    "        LogisticRegression(class_weight='balanced'),\n",
    "        SGDClassifier(class_weight='balanced'),\n",
    "        KNeighborsClassifier(n_neighbors=5),\n",
    "        SVC(class_weight='balanced'),\n",
    "        LinearSVC(max_iter=10000, class_weight='balanced'),\n",
    "        GaussianNB(),\n",
    "        GaussianProcessClassifier(),\n",
    "        DecisionTreeClassifier(class_weight='balanced'),\n",
    "        MLPClassifier(max_iter=10000),\n",
    "        AdaBoostClassifier(),\n",
    "        RandomForestClassifier(class_weight='balanced'),\n",
    "    ]\n",
    "\n",
    "    names = [\n",
    "             \"Logistic regression\", \"SGDClassifier\",\n",
    "             \"KNearest Neighbors (5)\", \n",
    "             \"SVM-rbf\", \"SMV-linear\", \n",
    "             \"Gaussian naive bayes\",\n",
    "             \"Gaussian Process\", \n",
    "             \"Decision Tree\", \n",
    "             \"Multi-layer Perceptron\", \n",
    "             \"AdaBoost\", \"Random Forest\"]\n",
    "\n",
    "    for name, clf in zip(names, classifiers):\n",
    "        clf.fit(X_train, y_train)\n",
    "        predicted = clf.predict(X_test)\n",
    "        print(\"Accuracy: %0.3f || AUROC %0.3f || (Accuracy, Precision) 0:( %0.3f, %0.3f)  1:( %0.3f, %0.3f) ->\" \n",
    "              % (accuracy_score(y_test,predicted), roc_auc_score(y_test, predicted),\n",
    "                recall_score(y_test,predicted,pos_label=0), precision_score(y_test,predicted,pos_label=0),\n",
    "                recall_score(y_test,predicted,pos_label=1), precision_score(y_test,predicted,pos_label=1)), name)\n",
    "        \n",
    "    return;\n"
   ]
  },
  {
   "cell_type": "code",
   "execution_count": 32,
   "metadata": {},
   "outputs": [
    {
     "name": "stdout",
     "output_type": "stream",
     "text": [
      "Accuracy: 0.671 || AUROC 0.525 || (Accuracy, Precision) 0:( 0.295, 0.213)  1:( 0.755, 0.827) -> Logistic regression\n",
      "Accuracy: 0.717 || AUROC 0.553 || (Accuracy, Precision) 0:( 0.295, 0.260)  1:( 0.811, 0.837) -> SGDClassifier\n",
      "Accuracy: 0.604 || AUROC 0.493 || (Accuracy, Precision) 0:( 0.318, 0.177)  1:( 0.668, 0.814) -> KNearest Neighbors (5)\n",
      "Accuracy: 0.633 || AUROC 0.502 || (Accuracy, Precision) 0:( 0.295, 0.186)  1:( 0.709, 0.818) -> SVM-rbf\n",
      "Accuracy: 0.642 || AUROC 0.525 || (Accuracy, Precision) 0:( 0.341, 0.208)  1:( 0.709, 0.827) -> SMV-linear\n",
      "Accuracy: 0.804 || AUROC 0.519 || (Accuracy, Precision) 0:( 0.068, 0.333)  1:( 0.969, 0.823) -> Gaussian naive bayes\n",
      "Accuracy: 0.692 || AUROC 0.503 || (Accuracy, Precision) 0:( 0.205, 0.188)  1:( 0.801, 0.818) -> Gaussian Process\n",
      "Accuracy: 0.637 || AUROC 0.575 || (Accuracy, Precision) 0:( 0.477, 0.247)  1:( 0.673, 0.852) -> Decision Tree\n",
      "Accuracy: 0.738 || AUROC 0.540 || (Accuracy, Precision) 0:( 0.227, 0.256)  1:( 0.852, 0.831) -> Multi-layer Perceptron\n",
      "Accuracy: 0.654 || AUROC 0.489 || (Accuracy, Precision) 0:( 0.227, 0.169)  1:( 0.750, 0.812) -> AdaBoost\n",
      "Accuracy: 0.746 || AUROC 0.510 || (Accuracy, Precision) 0:( 0.136, 0.207)  1:( 0.883, 0.820) -> Random Forest\n"
     ]
    }
   ],
   "source": [
    "evaluateBalancerAgaintTestData(overSampler)"
   ]
  },
  {
   "cell_type": "code",
   "execution_count": 33,
   "metadata": {},
   "outputs": [
    {
     "name": "stdout",
     "output_type": "stream",
     "text": [
      "Accuracy: 0.654 || AUROC 0.542 || (Accuracy, Precision) 0:( 0.364, 0.225)  1:( 0.719, 0.834) -> Logistic regression\n",
      "Accuracy: 0.629 || AUROC 0.544 || (Accuracy, Precision) 0:( 0.409, 0.222)  1:( 0.679, 0.836) -> SGDClassifier\n",
      "Accuracy: 0.613 || AUROC 0.516 || (Accuracy, Precision) 0:( 0.364, 0.198)  1:( 0.668, 0.824) -> KNearest Neighbors (5)\n",
      "Accuracy: 0.683 || AUROC 0.524 || (Accuracy, Precision) 0:( 0.273, 0.214)  1:( 0.776, 0.826) -> SVM-rbf\n",
      "Accuracy: 0.667 || AUROC 0.567 || (Accuracy, Precision) 0:( 0.409, 0.250)  1:( 0.724, 0.845) -> SMV-linear\n",
      "Accuracy: 0.808 || AUROC 0.521 || (Accuracy, Precision) 0:( 0.068, 0.375)  1:( 0.974, 0.823) -> Gaussian naive bayes\n",
      "Accuracy: 0.679 || AUROC 0.513 || (Accuracy, Precision) 0:( 0.250, 0.200)  1:( 0.776, 0.822) -> Gaussian Process\n",
      "Accuracy: 0.646 || AUROC 0.519 || (Accuracy, Precision) 0:( 0.318, 0.203)  1:( 0.719, 0.825) -> Decision Tree\n",
      "Accuracy: 0.713 || AUROC 0.480 || (Accuracy, Precision) 0:( 0.114, 0.143)  1:( 0.847, 0.810) -> Multi-layer Perceptron\n",
      "Accuracy: 0.675 || AUROC 0.501 || (Accuracy, Precision) 0:( 0.227, 0.185)  1:( 0.776, 0.817) -> AdaBoost\n",
      "Accuracy: 0.733 || AUROC 0.511 || (Accuracy, Precision) 0:( 0.159, 0.206)  1:( 0.862, 0.820) -> Random Forest\n"
     ]
    }
   ],
   "source": [
    "evaluateBalancerAgaintTestData(smoteSampler)"
   ]
  },
  {
   "cell_type": "code",
   "execution_count": 34,
   "metadata": {},
   "outputs": [
    {
     "name": "stdout",
     "output_type": "stream",
     "text": [
      "Accuracy: 0.579 || AUROC 0.540 || (Accuracy, Precision) 0:( 0.477, 0.212)  1:( 0.602, 0.837) -> Logistic regression\n",
      "Accuracy: 0.438 || AUROC 0.541 || (Accuracy, Precision) 0:( 0.705, 0.203)  1:( 0.378, 0.851) -> SGDClassifier\n",
      "Accuracy: 0.579 || AUROC 0.469 || (Accuracy, Precision) 0:( 0.295, 0.157)  1:( 0.643, 0.803) -> KNearest Neighbors (5)\n",
      "Accuracy: 0.583 || AUROC 0.525 || (Accuracy, Precision) 0:( 0.432, 0.202)  1:( 0.617, 0.829) -> SVM-rbf\n",
      "Accuracy: 0.512 || AUROC 0.525 || (Accuracy, Precision) 0:( 0.545, 0.198)  1:( 0.505, 0.832) -> SMV-linear\n",
      "Accuracy: 0.808 || AUROC 0.530 || (Accuracy, Precision) 0:( 0.091, 0.400)  1:( 0.969, 0.826) -> Gaussian naive bayes\n",
      "Accuracy: 0.604 || AUROC 0.529 || (Accuracy, Precision) 0:( 0.409, 0.207)  1:( 0.648, 0.830) -> Gaussian Process\n",
      "Accuracy: 0.596 || AUROC 0.559 || (Accuracy, Precision) 0:( 0.500, 0.227)  1:( 0.617, 0.846) -> Decision Tree\n",
      "Accuracy: 0.604 || AUROC 0.511 || (Accuracy, Precision) 0:( 0.364, 0.193)  1:( 0.658, 0.822) -> Multi-layer Perceptron\n",
      "Accuracy: 0.608 || AUROC 0.522 || (Accuracy, Precision) 0:( 0.386, 0.202)  1:( 0.658, 0.827) -> AdaBoost\n",
      "Accuracy: 0.629 || AUROC 0.553 || (Accuracy, Precision) 0:( 0.432, 0.229)  1:( 0.673, 0.841) -> Random Forest\n"
     ]
    }
   ],
   "source": [
    "evaluateBalancerAgaintTestData(underSampler)"
   ]
  },
  {
   "cell_type": "code",
   "execution_count": 35,
   "metadata": {},
   "outputs": [
    {
     "name": "stdout",
     "output_type": "stream",
     "text": [
      "Accuracy: 0.567 || AUROC 0.567 || (Accuracy, Precision) 0:( 0.568, 0.227)  1:( 0.566, 0.854) -> Logistic regression\n",
      "Accuracy: 0.642 || AUROC 0.507 || (Accuracy, Precision) 0:( 0.295, 0.191)  1:( 0.719, 0.820) -> SGDClassifier\n",
      "Accuracy: 0.592 || AUROC 0.468 || (Accuracy, Precision) 0:( 0.273, 0.154)  1:( 0.663, 0.802) -> KNearest Neighbors (5)\n",
      "Accuracy: 0.637 || AUROC 0.487 || (Accuracy, Precision) 0:( 0.250, 0.169)  1:( 0.724, 0.811) -> SVM-rbf\n",
      "Accuracy: 0.533 || AUROC 0.556 || (Accuracy, Precision) 0:( 0.591, 0.217)  1:( 0.520, 0.850) -> SMV-linear\n",
      "Accuracy: 0.808 || AUROC 0.521 || (Accuracy, Precision) 0:( 0.068, 0.375)  1:( 0.974, 0.823) -> Gaussian naive bayes\n",
      "Accuracy: 0.675 || AUROC 0.484 || (Accuracy, Precision) 0:( 0.182, 0.160)  1:( 0.786, 0.811) -> Gaussian Process\n",
      "Accuracy: 0.571 || AUROC 0.535 || (Accuracy, Precision) 0:( 0.477, 0.208)  1:( 0.592, 0.835) -> Decision Tree\n",
      "Accuracy: 0.604 || AUROC 0.529 || (Accuracy, Precision) 0:( 0.409, 0.207)  1:( 0.648, 0.830) -> Multi-layer Perceptron\n",
      "Accuracy: 0.463 || AUROC 0.503 || (Accuracy, Precision) 0:( 0.568, 0.185)  1:( 0.439, 0.819) -> AdaBoost\n",
      "Accuracy: 0.567 || AUROC 0.532 || (Accuracy, Precision) 0:( 0.477, 0.206)  1:( 0.587, 0.833) -> Random Forest\n"
     ]
    }
   ],
   "source": [
    "evaluateBalancerAgaintTestData(centroidSampler)"
   ]
  },
  {
   "cell_type": "code",
   "execution_count": 36,
   "metadata": {},
   "outputs": [
    {
     "name": "stdout",
     "output_type": "stream",
     "text": [
      "Accuracy: 0.629 || AUROC 0.614 || (Accuracy, Precision) 0:( 0.591, 0.268)  1:( 0.638, 0.874) -> Logistic regression\n",
      "Accuracy: 0.650 || AUROC 0.557 || (Accuracy, Precision) 0:( 0.409, 0.237)  1:( 0.704, 0.841) -> SGDClassifier\n",
      "Accuracy: 0.529 || AUROC 0.535 || (Accuracy, Precision) 0:( 0.545, 0.205)  1:( 0.526, 0.837) -> KNearest Neighbors (5)\n",
      "Accuracy: 0.575 || AUROC 0.528 || (Accuracy, Precision) 0:( 0.455, 0.204)  1:( 0.602, 0.831) -> SVM-rbf\n",
      "Accuracy: 0.637 || AUROC 0.602 || (Accuracy, Precision) 0:( 0.545, 0.264)  1:( 0.658, 0.866) -> SMV-linear\n",
      "Accuracy: 0.771 || AUROC 0.542 || (Accuracy, Precision) 0:( 0.182, 0.296)  1:( 0.903, 0.831) -> Gaussian naive bayes\n",
      "Accuracy: 0.537 || AUROC 0.523 || (Accuracy, Precision) 0:( 0.500, 0.198)  1:( 0.546, 0.829) -> Gaussian Process\n",
      "Accuracy: 0.579 || AUROC 0.540 || (Accuracy, Precision) 0:( 0.477, 0.212)  1:( 0.602, 0.837) -> Decision Tree\n",
      "Accuracy: 0.600 || AUROC 0.526 || (Accuracy, Precision) 0:( 0.409, 0.205)  1:( 0.643, 0.829) -> Multi-layer Perceptron\n",
      "Accuracy: 0.529 || AUROC 0.553 || (Accuracy, Precision) 0:( 0.591, 0.215)  1:( 0.515, 0.849) -> AdaBoost\n",
      "Accuracy: 0.554 || AUROC 0.516 || (Accuracy, Precision) 0:( 0.455, 0.194)  1:( 0.577, 0.825) -> Random Forest\n"
     ]
    }
   ],
   "source": [
    "evaluateBalancerAgaintTestData(smoteeenSampler)"
   ]
  }
 ],
 "metadata": {
  "kernelspec": {
   "display_name": "Python 3",
   "language": "python",
   "name": "python3"
  },
  "language_info": {
   "codemirror_mode": {
    "name": "ipython",
    "version": 3
   },
   "file_extension": ".py",
   "mimetype": "text/x-python",
   "name": "python",
   "nbconvert_exporter": "python",
   "pygments_lexer": "ipython3",
   "version": "3.7.5"
  }
 },
 "nbformat": 4,
 "nbformat_minor": 2
}
