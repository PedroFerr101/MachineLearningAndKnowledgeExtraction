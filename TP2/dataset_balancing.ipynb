{
 "cells": [
  {
   "cell_type": "code",
   "execution_count": 26,
   "metadata": {},
   "outputs": [],
   "source": [
    "import pandas as pd\n",
    "import numpy as np\n",
    "from sklearn.preprocessing import  RobustScaler\n",
    "from sklearn.utils import shuffle\n",
    "from imblearn.over_sampling import RandomOverSampler, SMOTE\n",
    "from imblearn.under_sampling import RandomUnderSampler, ClusterCentroids, TomekLinks\n",
    "from imblearn.combine import SMOTEENN\n",
    "from sklearn.model_selection import cross_validate\n",
    "from sklearn.naive_bayes import GaussianNB\n",
    "from sklearn.neighbors import KNeighborsClassifier\n",
    "from sklearn.neural_network import MLPClassifier\n",
    "from sklearn.svm import SVC, LinearSVC\n",
    "from sklearn.tree import DecisionTreeClassifier\n",
    "from sklearn.gaussian_process import GaussianProcessClassifier\n",
    "from sklearn.linear_model import LogisticRegression, LinearRegression, SGDClassifier\n",
    "from sklearn.ensemble import RandomForestClassifier, AdaBoostClassifier\n",
    "from imblearn.ensemble import RUSBoostClassifier\n",
    "from sklearn.metrics import make_scorer, recall_score, precision_score, accuracy_score, roc_auc_score\n",
    "\n",
    "\n",
    "%matplotlib inline"
   ]
  },
  {
   "cell_type": "markdown",
   "metadata": {},
   "source": [
    "### Load train and test dataset"
   ]
  },
  {
   "cell_type": "code",
   "execution_count": 2,
   "metadata": {},
   "outputs": [],
   "source": [
    "AbsenteeismAtWork = pd.read_csv('data/train_data.csv', index_col=0)\n",
    "AbsenteeismAtWork['Work load Average/day '] = [x.replace(',', '') for x in AbsenteeismAtWork['Work load Average/day ']]\n",
    "AbsenteeismAtWork['Work load Average/day '] = AbsenteeismAtWork['Work load Average/day '].astype(int)\n",
    "\n",
    "X_train = AbsenteeismAtWork.drop('Absent', 1)\n",
    "y_train =  AbsenteeismAtWork['Absent']\n",
    "X_test = pd.read_csv('data/test_data.csv', index_col=0)\n",
    "y_test = pd.read_csv('data/sample_submission.csv', index_col=0)"
   ]
  },
  {
   "cell_type": "markdown",
   "metadata": {},
   "source": [
    "# Balance Dataset"
   ]
  },
  {
   "cell_type": "markdown",
   "metadata": {},
   "source": [
    "### Up-sample minority class"
   ]
  },
  {
   "cell_type": "markdown",
   "metadata": {},
   "source": [
    "#### Resample with replacement\n",
    "\n",
    "Método mais simples que consiste em replicar aleatoriamente (com reposição) dados da classe minoritária até atingir ratio de 1:1"
   ]
  },
  {
   "cell_type": "code",
   "execution_count": 3,
   "metadata": {},
   "outputs": [],
   "source": [
    "def overSampler(X_train, y_train):\n",
    "    ros = RandomOverSampler()\n",
    "    X_balanced, y_train = ros.fit_sample(X_train, y_train)\n",
    "    X_balanced, y_train = shuffle(X_balanced, y_train)\n",
    "    return X_balanced, y_train;"
   ]
  },
  {
   "cell_type": "markdown",
   "metadata": {},
   "source": [
    "#### SMOTE - Synthetic Minority Over-sampling Technique"
   ]
  },
  {
   "cell_type": "code",
   "execution_count": 4,
   "metadata": {},
   "outputs": [],
   "source": [
    "def smoteSampler(X_train, y_train):\n",
    "    smote = SMOTE(sampling_strategy='minority')\n",
    "    X_balanced, y_train = smote.fit_sample(X_train, y_train)\n",
    "    X_balanced, y_train = shuffle(X_balanced, y_train)\n",
    "    return X_balanced, y_train;"
   ]
  },
  {
   "cell_type": "markdown",
   "metadata": {},
   "source": [
    "### Down-sample majority class"
   ]
  },
  {
   "cell_type": "markdown",
   "metadata": {},
   "source": [
    "#### Resample without replacement"
   ]
  },
  {
   "cell_type": "code",
   "execution_count": 5,
   "metadata": {},
   "outputs": [],
   "source": [
    "def underSampler(X_train, y_train):\n",
    "    rus = RandomUnderSampler()\n",
    "    X_balanced, y_train = rus.fit_sample(X_train, y_train)\n",
    "    X_balanced, y_train = shuffle(X_balanced, y_train)\n",
    "    return X_balanced, y_train;"
   ]
  },
  {
   "cell_type": "markdown",
   "metadata": {},
   "source": [
    "#### Cluster Centroids\n"
   ]
  },
  {
   "cell_type": "code",
   "execution_count": 6,
   "metadata": {},
   "outputs": [],
   "source": [
    "def centroidSampler(X_train, y_train):\n",
    "    cc = ClusterCentroids(sampling_strategy='majority')\n",
    "    X_balanced, y_train = cc.fit_sample(X_train, y_train)\n",
    "    X_balanced, y_train = shuffle(X_balanced, y_train)\n",
    "    return X_balanced, y_train;"
   ]
  },
  {
   "cell_type": "markdown",
   "metadata": {},
   "source": [
    "#### Tomek links"
   ]
  },
  {
   "cell_type": "code",
   "execution_count": 23,
   "metadata": {},
   "outputs": [],
   "source": [
    "def tomekSampler(X_train, y_train):\n",
    "    cc = TomekLinks(sampling_strategy='majority')\n",
    "    X_balanced, y_train = cc.fit_sample(X_train, y_train)\n",
    "    X_balanced, y_train = shuffle(X_balanced, y_train)\n",
    "    return X_balanced, y_train;"
   ]
  },
  {
   "cell_type": "markdown",
   "metadata": {},
   "source": [
    "### Combination of over- and under-sampling"
   ]
  },
  {
   "cell_type": "markdown",
   "metadata": {},
   "source": [
    "#### SMOTE-ENN"
   ]
  },
  {
   "cell_type": "code",
   "execution_count": 7,
   "metadata": {},
   "outputs": [],
   "source": [
    "def smoteeenSampler(X_train, y_train):\n",
    "    smote_enn = SMOTEENN(random_state=0)\n",
    "    X_balanced, y_train = smote_enn.fit_sample(X_train, y_train)\n",
    "    X_balanced, y_train = shuffle(X_balanced, y_train)\n",
    "    return X_balanced, y_train;"
   ]
  },
  {
   "cell_type": "markdown",
   "metadata": {},
   "source": [
    "## Avaliação das diferentes técnicas"
   ]
  },
  {
   "cell_type": "code",
   "execution_count": 8,
   "metadata": {},
   "outputs": [],
   "source": [
    "def robustScaling(X_train):\n",
    "    scaler = RobustScaler()\n",
    "    scaled_data = scaler.fit_transform( X_train )\n",
    "    return scaled_data;\n",
    "\n",
    "def evaluateTechnique(balancer):\n",
    "    X_train = AbsenteeismAtWork.drop('Absent', 1)\n",
    "    y_train =  AbsenteeismAtWork['Absent']\n",
    "\n",
    "    X_train = robustScaling(X_train)\n",
    "    \n",
    "    X_train, y_train = balancer(X_train, y_train)\n",
    "    \n",
    "    classifiers = [\n",
    "        LogisticRegression(class_weight='balanced'),\n",
    "        SGDClassifier(class_weight='balanced'),\n",
    "        KNeighborsClassifier(n_neighbors=5),\n",
    "        SVC(class_weight='balanced'),\n",
    "        LinearSVC(max_iter=10000, class_weight='balanced'),\n",
    "        GaussianNB(),\n",
    "        GaussianProcessClassifier(),\n",
    "        DecisionTreeClassifier(class_weight='balanced'),\n",
    "        MLPClassifier(max_iter=10000),\n",
    "        AdaBoostClassifier(),\n",
    "        RandomForestClassifier(class_weight='balanced'),\n",
    "    ]\n",
    "    \n",
    "    \n",
    "    names = [\n",
    "             \"Logistic regression\", \"SGDClassifier\",\n",
    "             \"KNearest Neighbors (5)\", \n",
    "             \"SVM-rbf\", \"SMV-linear\", \n",
    "             \"Gaussian naive bayes\",\n",
    "             \"Gaussian Process\", \n",
    "             \"Decision Tree\", \n",
    "             \"Multi-layer Perceptron\", \n",
    "             \"AdaBoost\", \"Random Forest\"]\n",
    "\n",
    "\n",
    "    metrics = {'recall0': make_scorer(recall_score, pos_label = 0), \n",
    "               'recall1': make_scorer(recall_score, pos_label = 1),\n",
    "               'precision0': make_scorer(precision_score, pos_label = 0),\n",
    "               'precision1': make_scorer(precision_score, pos_label = 0),\n",
    "               'accuracy' : 'accuracy',\n",
    "               'roc_auc': 'roc_auc'\n",
    "              }\n",
    "\n",
    "    for name, clf in zip(names, classifiers):\n",
    "        scores = cross_validate(clf, X_train, y_train, cv=10, scoring=metrics)\n",
    "        print(\"Accuracy: %0.3f || AUROC %0.3f || (Accuracy, Precision) 0:( %0.3f, %0.3f)  1:( %0.3f, %0.3f) ->\" \n",
    "              % (scores['test_accuracy'].mean(), scores['test_roc_auc'].mean(),\n",
    "                scores['test_recall0'].mean(), scores['test_precision0'].mean(),\n",
    "                scores['test_recall1'].mean(), scores['test_precision1'].mean()), name)\n",
    "        \n",
    "    return;"
   ]
  },
  {
   "cell_type": "code",
   "execution_count": 9,
   "metadata": {},
   "outputs": [
    {
     "name": "stdout",
     "output_type": "stream",
     "text": [
      "Accuracy: 0.725 || AUROC 0.800 || (Accuracy, Precision) 0:( 0.721, 0.730)  1:( 0.729, 0.730) -> Logistic regression\n",
      "Accuracy: 0.638 || AUROC 0.698 || (Accuracy, Precision) 0:( 0.591, 0.665)  1:( 0.687, 0.665) -> SGDClassifier\n",
      "Accuracy: 0.763 || AUROC 0.851 || (Accuracy, Precision) 0:( 0.856, 0.722)  1:( 0.671, 0.722) -> KNearest Neighbors (5)\n",
      "Accuracy: 0.746 || AUROC 0.834 || (Accuracy, Precision) 0:( 0.739, 0.750)  1:( 0.752, 0.750) -> SVM-rbf\n",
      "Accuracy: 0.710 || AUROC 0.803 || (Accuracy, Precision) 0:( 0.718, 0.707)  1:( 0.702, 0.707) -> SMV-linear\n",
      "Accuracy: 0.634 || AUROC 0.685 || (Accuracy, Precision) 0:( 0.268, 1.000)  1:( 1.000, 1.000) -> Gaussian naive bayes\n",
      "Accuracy: 0.824 || AUROC 0.903 || (Accuracy, Precision) 0:( 0.881, 0.792)  1:( 0.767, 0.792) -> Gaussian Process\n",
      "Accuracy: 0.922 || AUROC 0.927 || (Accuracy, Precision) 0:( 0.980, 0.879)  1:( 0.863, 0.879) -> Decision Tree\n",
      "Accuracy: 0.916 || AUROC 0.957 || (Accuracy, Precision) 0:( 0.972, 0.878)  1:( 0.861, 0.878) -> Multi-layer Perceptron\n",
      "Accuracy: 0.808 || AUROC 0.893 || (Accuracy, Precision) 0:( 0.802, 0.817)  1:( 0.813, 0.817) -> AdaBoost\n",
      "Accuracy: 0.933 || AUROC 0.984 || (Accuracy, Precision) 0:( 0.975, 0.902)  1:( 0.891, 0.902) -> Random Forest\n"
     ]
    }
   ],
   "source": [
    "evaluateTechnique(overSampler)"
   ]
  },
  {
   "cell_type": "code",
   "execution_count": 10,
   "metadata": {},
   "outputs": [
    {
     "name": "stdout",
     "output_type": "stream",
     "text": [
      "Accuracy: 0.699 || AUROC 0.800 || (Accuracy, Precision) 0:( 0.663, 0.718)  1:( 0.734, 0.718) -> Logistic regression\n",
      "Accuracy: 0.659 || AUROC 0.743 || (Accuracy, Precision) 0:( 0.688, 0.652)  1:( 0.631, 0.652) -> SGDClassifier\n",
      "Accuracy: 0.762 || AUROC 0.859 || (Accuracy, Precision) 0:( 0.893, 0.707)  1:( 0.631, 0.707) -> KNearest Neighbors (5)\n",
      "Accuracy: 0.752 || AUROC 0.841 || (Accuracy, Precision) 0:( 0.731, 0.764)  1:( 0.772, 0.764) -> SVM-rbf\n",
      "Accuracy: 0.706 || AUROC 0.803 || (Accuracy, Precision) 0:( 0.680, 0.721)  1:( 0.731, 0.721) -> SMV-linear\n",
      "Accuracy: 0.678 || AUROC 0.730 || (Accuracy, Precision) 0:( 0.356, 1.000)  1:( 1.000, 1.000) -> Gaussian naive bayes\n",
      "Accuracy: 0.810 || AUROC 0.892 || (Accuracy, Precision) 0:( 0.896, 0.765)  1:( 0.724, 0.765) -> Gaussian Process\n",
      "Accuracy: 0.839 || AUROC 0.848 || (Accuracy, Precision) 0:( 0.850, 0.835)  1:( 0.828, 0.835) -> Decision Tree\n",
      "Accuracy: 0.904 || AUROC 0.956 || (Accuracy, Precision) 0:( 0.937, 0.880)  1:( 0.871, 0.880) -> Multi-layer Perceptron\n",
      "Accuracy: 0.851 || AUROC 0.930 || (Accuracy, Precision) 0:( 0.846, 0.856)  1:( 0.856, 0.856) -> AdaBoost\n",
      "Accuracy: 0.890 || AUROC 0.951 || (Accuracy, Precision) 0:( 0.873, 0.904)  1:( 0.906, 0.904) -> Random Forest\n"
     ]
    }
   ],
   "source": [
    "evaluateTechnique(smoteSampler)"
   ]
  },
  {
   "cell_type": "code",
   "execution_count": 11,
   "metadata": {},
   "outputs": [
    {
     "name": "stdout",
     "output_type": "stream",
     "text": [
      "Accuracy: 0.638 || AUROC 0.735 || (Accuracy, Precision) 0:( 0.589, 0.664)  1:( 0.688, 0.664) -> Logistic regression\n",
      "Accuracy: 0.643 || AUROC 0.687 || (Accuracy, Precision) 0:( 0.685, 0.663)  1:( 0.600, 0.663) -> SGDClassifier\n",
      "Accuracy: 0.624 || AUROC 0.680 || (Accuracy, Precision) 0:( 0.516, 0.693)  1:( 0.735, 0.693) -> KNearest Neighbors (5)\n",
      "Accuracy: 0.652 || AUROC 0.649 || (Accuracy, Precision) 0:( 0.504, 0.733)  1:( 0.799, 0.733) -> SVM-rbf\n",
      "Accuracy: 0.648 || AUROC 0.758 || (Accuracy, Precision) 0:( 0.608, 0.672)  1:( 0.686, 0.672) -> SMV-linear\n",
      "Accuracy: 0.648 || AUROC 0.667 || (Accuracy, Precision) 0:( 0.304, 0.980)  1:( 0.990, 0.980) -> Gaussian naive bayes\n",
      "Accuracy: 0.614 || AUROC 0.645 || (Accuracy, Precision) 0:( 0.580, 0.631)  1:( 0.647, 0.631) -> Gaussian Process\n",
      "Accuracy: 0.676 || AUROC 0.675 || (Accuracy, Precision) 0:( 0.702, 0.678)  1:( 0.648, 0.678) -> Decision Tree\n",
      "Accuracy: 0.681 || AUROC 0.742 || (Accuracy, Precision) 0:( 0.695, 0.686)  1:( 0.667, 0.686) -> Multi-layer Perceptron\n",
      "Accuracy: 0.752 || AUROC 0.815 || (Accuracy, Precision) 0:( 0.760, 0.747)  1:( 0.742, 0.747) -> AdaBoost\n",
      "Accuracy: 0.743 || AUROC 0.814 || (Accuracy, Precision) 0:( 0.723, 0.757)  1:( 0.762, 0.757) -> Random Forest\n"
     ]
    }
   ],
   "source": [
    "evaluateTechnique(underSampler)"
   ]
  },
  {
   "cell_type": "code",
   "execution_count": 12,
   "metadata": {},
   "outputs": [
    {
     "name": "stdout",
     "output_type": "stream",
     "text": [
      "Accuracy: 0.662 || AUROC 0.716 || (Accuracy, Precision) 0:( 0.575, 0.715)  1:( 0.756, 0.715) -> Logistic regression\n",
      "Accuracy: 0.643 || AUROC 0.685 || (Accuracy, Precision) 0:( 0.571, 0.670)  1:( 0.710, 0.670) -> SGDClassifier\n",
      "Accuracy: 0.571 || AUROC 0.627 || (Accuracy, Precision) 0:( 0.505, 0.586)  1:( 0.642, 0.586) -> KNearest Neighbors (5)\n",
      "Accuracy: 0.600 || AUROC 0.597 || (Accuracy, Precision) 0:( 0.500, 0.680)  1:( 0.710, 0.680) -> SVM-rbf\n",
      "Accuracy: 0.686 || AUROC 0.764 || (Accuracy, Precision) 0:( 0.639, 0.712)  1:( 0.737, 0.712) -> SMV-linear\n",
      "Accuracy: 0.652 || AUROC 0.687 || (Accuracy, Precision) 0:( 0.308, 1.000)  1:( 1.000, 1.000) -> Gaussian naive bayes\n",
      "Accuracy: 0.538 || AUROC 0.530 || (Accuracy, Precision) 0:( 0.525, 0.541)  1:( 0.557, 0.541) -> Gaussian Process\n",
      "Accuracy: 0.800 || AUROC 0.800 || (Accuracy, Precision) 0:( 0.791, 0.820)  1:( 0.809, 0.820) -> Decision Tree\n",
      "Accuracy: 0.571 || AUROC 0.651 || (Accuracy, Precision) 0:( 0.584, 0.585)  1:( 0.565, 0.585) -> Multi-layer Perceptron\n",
      "Accuracy: 0.843 || AUROC 0.905 || (Accuracy, Precision) 0:( 0.847, 0.842)  1:( 0.840, 0.842) -> AdaBoost\n",
      "Accuracy: 0.790 || AUROC 0.889 || (Accuracy, Precision) 0:( 0.821, 0.787)  1:( 0.766, 0.787) -> Random Forest\n"
     ]
    }
   ],
   "source": [
    "evaluateTechnique(centroidSampler)"
   ]
  },
  {
   "cell_type": "code",
   "execution_count": 13,
   "metadata": {},
   "outputs": [
    {
     "name": "stdout",
     "output_type": "stream",
     "text": [
      "Accuracy: 0.826 || AUROC 0.911 || (Accuracy, Precision) 0:( 0.801, 0.896)  1:( 0.864, 0.896) -> Logistic regression\n",
      "Accuracy: 0.796 || AUROC 0.891 || (Accuracy, Precision) 0:( 0.787, 0.861)  1:( 0.809, 0.861) -> SGDClassifier\n",
      "Accuracy: 0.955 || AUROC 0.988 || (Accuracy, Precision) 0:( 0.986, 0.943)  1:( 0.909, 0.943) -> KNearest Neighbors (5)\n",
      "Accuracy: 0.926 || AUROC 0.982 || (Accuracy, Precision) 0:( 0.897, 0.978)  1:( 0.970, 0.978) -> SVM-rbf\n",
      "Accuracy: 0.845 || AUROC 0.929 || (Accuracy, Precision) 0:( 0.835, 0.899)  1:( 0.858, 0.899) -> SMV-linear\n",
      "Accuracy: 0.652 || AUROC 0.857 || (Accuracy, Precision) 0:( 0.429, 0.969)  1:( 0.980, 0.969) -> Gaussian naive bayes\n",
      "Accuracy: 0.969 || AUROC 0.997 || (Accuracy, Precision) 0:( 0.986, 0.964)  1:( 0.944, 0.964) -> Gaussian Process\n",
      "Accuracy: 0.945 || AUROC 0.943 || (Accuracy, Precision) 0:( 0.952, 0.956)  1:( 0.934, 0.956) -> Decision Tree\n",
      "Accuracy: 0.973 || AUROC 0.993 || (Accuracy, Precision) 0:( 0.987, 0.970)  1:( 0.954, 0.970) -> Multi-layer Perceptron\n",
      "Accuracy: 0.918 || AUROC 0.960 || (Accuracy, Precision) 0:( 0.941, 0.925)  1:( 0.884, 0.925) -> AdaBoost\n",
      "Accuracy: 0.975 || AUROC 0.997 || (Accuracy, Precision) 0:( 0.979, 0.980)  1:( 0.969, 0.980) -> Random Forest\n"
     ]
    }
   ],
   "source": [
    "evaluateTechnique(smoteeenSampler)"
   ]
  },
  {
   "cell_type": "markdown",
   "metadata": {},
   "source": [
    "## Avaliar com os dados de teste"
   ]
  },
  {
   "cell_type": "code",
   "execution_count": 25,
   "metadata": {},
   "outputs": [],
   "source": [
    "def robustScaling2(X_train, X_test):\n",
    "    scaler = RobustScaler()\n",
    "    scaled_data = scaler.fit_transform( X_train )\n",
    "    scaled_test = scaler.transform( X_test )\n",
    "    return scaled_data, scaled_test;\n",
    "\n",
    "def discretize2(X_train, X_test):\n",
    "    featuresToDiscretize = ['Transportation expense', 'Distance from Residence to Work', 'Service time', 'Age', 'Work load Average/day ', 'Hit target', 'Weight', 'Height', 'Body mass index']\n",
    "    discretizer = KBinsDiscretizer(n_bins=5, encode='ordinal', strategy='uniform')\n",
    "    X_train[featuresToDiscretize] = discretizer.fit_transform(X_train[featuresToDiscretize])\n",
    "    X_test[featuresToDiscretize] = discretizer.transform(X_test[featuresToDiscretize])\n",
    "    return X_train, X_test;\n",
    "\n",
    "def evaluateBalancerAgaintTestData(balancer):\n",
    "    X_train = AbsenteeismAtWork.drop('Absent', 1)\n",
    "    y_train =  AbsenteeismAtWork['Absent']\n",
    "    X_test = pd.read_csv('data/test_data.csv', index_col=0)\n",
    "    y_test = pd.read_csv('data/sample_submission.csv', index_col=0)\n",
    "    \n",
    "    X_train, X_test = robustScaling2(X_train, X_test)\n",
    "    \n",
    "    X_train, y_train = balancer(X_train, y_train)\n",
    "    \n",
    "    classifiers = [\n",
    "        LogisticRegression(class_weight='balanced'),\n",
    "        SGDClassifier(class_weight='balanced'),\n",
    "        KNeighborsClassifier(n_neighbors=5),\n",
    "        SVC(class_weight='balanced'),\n",
    "        LinearSVC(max_iter=10000, class_weight='balanced'),\n",
    "        GaussianNB(),\n",
    "        GaussianProcessClassifier(),\n",
    "        DecisionTreeClassifier(class_weight='balanced'),\n",
    "        MLPClassifier(max_iter=10000),\n",
    "        AdaBoostClassifier(),\n",
    "        RandomForestClassifier(class_weight='balanced'),\n",
    "    ]\n",
    "\n",
    "    names = [\n",
    "             \"Logistic regression\", \"SGDClassifier\",\n",
    "             \"KNearest Neighbors (5)\", \n",
    "             \"SVM-rbf\", \"SMV-linear\", \n",
    "             \"Gaussian naive bayes\",\n",
    "             \"Gaussian Process\", \n",
    "             \"Decision Tree\", \n",
    "             \"Multi-layer Perceptron\", \n",
    "             \"AdaBoost\", \"Random Forest\"]\n",
    "\n",
    "    for name, clf in zip(names, classifiers):\n",
    "        clf.fit(X_train, y_train)\n",
    "        predicted = clf.predict(X_test)\n",
    "        print(\"Accuracy: %0.3f || AUROC %0.3f || (Accuracy, Precision) 0:( %0.3f, %0.3f)  1:( %0.3f, %0.3f) ->\" \n",
    "              % (accuracy_score(y_test,predicted), roc_auc_score(y_test, predicted),\n",
    "                recall_score(y_test,predicted,pos_label=0), precision_score(y_test,predicted,pos_label=0),\n",
    "                recall_score(y_test,predicted,pos_label=1), precision_score(y_test,predicted,pos_label=1)), name)\n",
    "        \n",
    "    return;\n"
   ]
  },
  {
   "cell_type": "code",
   "execution_count": 32,
   "metadata": {},
   "outputs": [
    {
     "name": "stdout",
     "output_type": "stream",
     "text": [
      "Accuracy: 0.671 || AUROC 0.525 || (Accuracy, Precision) 0:( 0.295, 0.213)  1:( 0.755, 0.827) -> Logistic regression\n",
      "Accuracy: 0.717 || AUROC 0.553 || (Accuracy, Precision) 0:( 0.295, 0.260)  1:( 0.811, 0.837) -> SGDClassifier\n",
      "Accuracy: 0.604 || AUROC 0.493 || (Accuracy, Precision) 0:( 0.318, 0.177)  1:( 0.668, 0.814) -> KNearest Neighbors (5)\n",
      "Accuracy: 0.633 || AUROC 0.502 || (Accuracy, Precision) 0:( 0.295, 0.186)  1:( 0.709, 0.818) -> SVM-rbf\n",
      "Accuracy: 0.642 || AUROC 0.525 || (Accuracy, Precision) 0:( 0.341, 0.208)  1:( 0.709, 0.827) -> SMV-linear\n",
      "Accuracy: 0.804 || AUROC 0.519 || (Accuracy, Precision) 0:( 0.068, 0.333)  1:( 0.969, 0.823) -> Gaussian naive bayes\n",
      "Accuracy: 0.692 || AUROC 0.503 || (Accuracy, Precision) 0:( 0.205, 0.188)  1:( 0.801, 0.818) -> Gaussian Process\n",
      "Accuracy: 0.637 || AUROC 0.575 || (Accuracy, Precision) 0:( 0.477, 0.247)  1:( 0.673, 0.852) -> Decision Tree\n",
      "Accuracy: 0.738 || AUROC 0.540 || (Accuracy, Precision) 0:( 0.227, 0.256)  1:( 0.852, 0.831) -> Multi-layer Perceptron\n",
      "Accuracy: 0.654 || AUROC 0.489 || (Accuracy, Precision) 0:( 0.227, 0.169)  1:( 0.750, 0.812) -> AdaBoost\n",
      "Accuracy: 0.746 || AUROC 0.510 || (Accuracy, Precision) 0:( 0.136, 0.207)  1:( 0.883, 0.820) -> Random Forest\n"
     ]
    }
   ],
   "source": [
    "evaluateBalancerAgaintTestData(overSampler)"
   ]
  },
  {
   "cell_type": "code",
   "execution_count": 33,
   "metadata": {},
   "outputs": [
    {
     "name": "stdout",
     "output_type": "stream",
     "text": [
      "Accuracy: 0.654 || AUROC 0.542 || (Accuracy, Precision) 0:( 0.364, 0.225)  1:( 0.719, 0.834) -> Logistic regression\n",
      "Accuracy: 0.629 || AUROC 0.544 || (Accuracy, Precision) 0:( 0.409, 0.222)  1:( 0.679, 0.836) -> SGDClassifier\n",
      "Accuracy: 0.613 || AUROC 0.516 || (Accuracy, Precision) 0:( 0.364, 0.198)  1:( 0.668, 0.824) -> KNearest Neighbors (5)\n",
      "Accuracy: 0.683 || AUROC 0.524 || (Accuracy, Precision) 0:( 0.273, 0.214)  1:( 0.776, 0.826) -> SVM-rbf\n",
      "Accuracy: 0.667 || AUROC 0.567 || (Accuracy, Precision) 0:( 0.409, 0.250)  1:( 0.724, 0.845) -> SMV-linear\n",
      "Accuracy: 0.808 || AUROC 0.521 || (Accuracy, Precision) 0:( 0.068, 0.375)  1:( 0.974, 0.823) -> Gaussian naive bayes\n",
      "Accuracy: 0.679 || AUROC 0.513 || (Accuracy, Precision) 0:( 0.250, 0.200)  1:( 0.776, 0.822) -> Gaussian Process\n",
      "Accuracy: 0.646 || AUROC 0.519 || (Accuracy, Precision) 0:( 0.318, 0.203)  1:( 0.719, 0.825) -> Decision Tree\n",
      "Accuracy: 0.713 || AUROC 0.480 || (Accuracy, Precision) 0:( 0.114, 0.143)  1:( 0.847, 0.810) -> Multi-layer Perceptron\n",
      "Accuracy: 0.675 || AUROC 0.501 || (Accuracy, Precision) 0:( 0.227, 0.185)  1:( 0.776, 0.817) -> AdaBoost\n",
      "Accuracy: 0.733 || AUROC 0.511 || (Accuracy, Precision) 0:( 0.159, 0.206)  1:( 0.862, 0.820) -> Random Forest\n"
     ]
    }
   ],
   "source": [
    "evaluateBalancerAgaintTestData(smoteSampler)"
   ]
  },
  {
   "cell_type": "code",
   "execution_count": 34,
   "metadata": {},
   "outputs": [
    {
     "name": "stdout",
     "output_type": "stream",
     "text": [
      "Accuracy: 0.579 || AUROC 0.540 || (Accuracy, Precision) 0:( 0.477, 0.212)  1:( 0.602, 0.837) -> Logistic regression\n",
      "Accuracy: 0.438 || AUROC 0.541 || (Accuracy, Precision) 0:( 0.705, 0.203)  1:( 0.378, 0.851) -> SGDClassifier\n",
      "Accuracy: 0.579 || AUROC 0.469 || (Accuracy, Precision) 0:( 0.295, 0.157)  1:( 0.643, 0.803) -> KNearest Neighbors (5)\n",
      "Accuracy: 0.583 || AUROC 0.525 || (Accuracy, Precision) 0:( 0.432, 0.202)  1:( 0.617, 0.829) -> SVM-rbf\n",
      "Accuracy: 0.512 || AUROC 0.525 || (Accuracy, Precision) 0:( 0.545, 0.198)  1:( 0.505, 0.832) -> SMV-linear\n",
      "Accuracy: 0.808 || AUROC 0.530 || (Accuracy, Precision) 0:( 0.091, 0.400)  1:( 0.969, 0.826) -> Gaussian naive bayes\n",
      "Accuracy: 0.604 || AUROC 0.529 || (Accuracy, Precision) 0:( 0.409, 0.207)  1:( 0.648, 0.830) -> Gaussian Process\n",
      "Accuracy: 0.596 || AUROC 0.559 || (Accuracy, Precision) 0:( 0.500, 0.227)  1:( 0.617, 0.846) -> Decision Tree\n",
      "Accuracy: 0.604 || AUROC 0.511 || (Accuracy, Precision) 0:( 0.364, 0.193)  1:( 0.658, 0.822) -> Multi-layer Perceptron\n",
      "Accuracy: 0.608 || AUROC 0.522 || (Accuracy, Precision) 0:( 0.386, 0.202)  1:( 0.658, 0.827) -> AdaBoost\n",
      "Accuracy: 0.629 || AUROC 0.553 || (Accuracy, Precision) 0:( 0.432, 0.229)  1:( 0.673, 0.841) -> Random Forest\n"
     ]
    }
   ],
   "source": [
    "evaluateBalancerAgaintTestData(underSampler)"
   ]
  },
  {
   "cell_type": "code",
   "execution_count": 35,
   "metadata": {},
   "outputs": [
    {
     "name": "stdout",
     "output_type": "stream",
     "text": [
      "Accuracy: 0.567 || AUROC 0.567 || (Accuracy, Precision) 0:( 0.568, 0.227)  1:( 0.566, 0.854) -> Logistic regression\n",
      "Accuracy: 0.642 || AUROC 0.507 || (Accuracy, Precision) 0:( 0.295, 0.191)  1:( 0.719, 0.820) -> SGDClassifier\n",
      "Accuracy: 0.592 || AUROC 0.468 || (Accuracy, Precision) 0:( 0.273, 0.154)  1:( 0.663, 0.802) -> KNearest Neighbors (5)\n",
      "Accuracy: 0.637 || AUROC 0.487 || (Accuracy, Precision) 0:( 0.250, 0.169)  1:( 0.724, 0.811) -> SVM-rbf\n",
      "Accuracy: 0.533 || AUROC 0.556 || (Accuracy, Precision) 0:( 0.591, 0.217)  1:( 0.520, 0.850) -> SMV-linear\n",
      "Accuracy: 0.808 || AUROC 0.521 || (Accuracy, Precision) 0:( 0.068, 0.375)  1:( 0.974, 0.823) -> Gaussian naive bayes\n",
      "Accuracy: 0.675 || AUROC 0.484 || (Accuracy, Precision) 0:( 0.182, 0.160)  1:( 0.786, 0.811) -> Gaussian Process\n",
      "Accuracy: 0.571 || AUROC 0.535 || (Accuracy, Precision) 0:( 0.477, 0.208)  1:( 0.592, 0.835) -> Decision Tree\n",
      "Accuracy: 0.604 || AUROC 0.529 || (Accuracy, Precision) 0:( 0.409, 0.207)  1:( 0.648, 0.830) -> Multi-layer Perceptron\n",
      "Accuracy: 0.463 || AUROC 0.503 || (Accuracy, Precision) 0:( 0.568, 0.185)  1:( 0.439, 0.819) -> AdaBoost\n",
      "Accuracy: 0.567 || AUROC 0.532 || (Accuracy, Precision) 0:( 0.477, 0.206)  1:( 0.587, 0.833) -> Random Forest\n"
     ]
    }
   ],
   "source": [
    "evaluateBalancerAgaintTestData(centroidSampler)"
   ]
  },
  {
   "cell_type": "code",
   "execution_count": 36,
   "metadata": {},
   "outputs": [
    {
     "name": "stdout",
     "output_type": "stream",
     "text": [
      "Accuracy: 0.629 || AUROC 0.614 || (Accuracy, Precision) 0:( 0.591, 0.268)  1:( 0.638, 0.874) -> Logistic regression\n",
      "Accuracy: 0.650 || AUROC 0.557 || (Accuracy, Precision) 0:( 0.409, 0.237)  1:( 0.704, 0.841) -> SGDClassifier\n",
      "Accuracy: 0.529 || AUROC 0.535 || (Accuracy, Precision) 0:( 0.545, 0.205)  1:( 0.526, 0.837) -> KNearest Neighbors (5)\n",
      "Accuracy: 0.575 || AUROC 0.528 || (Accuracy, Precision) 0:( 0.455, 0.204)  1:( 0.602, 0.831) -> SVM-rbf\n",
      "Accuracy: 0.637 || AUROC 0.602 || (Accuracy, Precision) 0:( 0.545, 0.264)  1:( 0.658, 0.866) -> SMV-linear\n",
      "Accuracy: 0.771 || AUROC 0.542 || (Accuracy, Precision) 0:( 0.182, 0.296)  1:( 0.903, 0.831) -> Gaussian naive bayes\n",
      "Accuracy: 0.537 || AUROC 0.523 || (Accuracy, Precision) 0:( 0.500, 0.198)  1:( 0.546, 0.829) -> Gaussian Process\n",
      "Accuracy: 0.579 || AUROC 0.540 || (Accuracy, Precision) 0:( 0.477, 0.212)  1:( 0.602, 0.837) -> Decision Tree\n",
      "Accuracy: 0.600 || AUROC 0.526 || (Accuracy, Precision) 0:( 0.409, 0.205)  1:( 0.643, 0.829) -> Multi-layer Perceptron\n",
      "Accuracy: 0.529 || AUROC 0.553 || (Accuracy, Precision) 0:( 0.591, 0.215)  1:( 0.515, 0.849) -> AdaBoost\n",
      "Accuracy: 0.554 || AUROC 0.516 || (Accuracy, Precision) 0:( 0.455, 0.194)  1:( 0.577, 0.825) -> Random Forest\n"
     ]
    }
   ],
   "source": [
    "evaluateBalancerAgaintTestData(smoteeenSampler)"
   ]
  },
  {
   "cell_type": "code",
   "execution_count": 27,
   "metadata": {},
   "outputs": [
    {
     "name": "stdout",
     "output_type": "stream",
     "text": [
      "Accuracy: 0.646 || AUROC 0.545 || (Accuracy, Precision) 0:( 0.386, 0.227)  1:( 0.704, 0.836) -> Logistic regression\n",
      "Accuracy: 0.600 || AUROC 0.526 || (Accuracy, Precision) 0:( 0.409, 0.205)  1:( 0.643, 0.829) -> SGDClassifier\n",
      "Accuracy: 0.800 || AUROC 0.507 || (Accuracy, Precision) 0:( 0.045, 0.250)  1:( 0.969, 0.819) -> KNearest Neighbors (5)\n",
      "Accuracy: 0.613 || AUROC 0.525 || (Accuracy, Precision) 0:( 0.386, 0.205)  1:( 0.663, 0.828) -> SVM-rbf\n",
      "Accuracy: 0.633 || AUROC 0.546 || (Accuracy, Precision) 0:( 0.409, 0.225)  1:( 0.684, 0.838) -> SMV-linear\n",
      "Accuracy: 0.804 || AUROC 0.519 || (Accuracy, Precision) 0:( 0.068, 0.333)  1:( 0.969, 0.823) -> Gaussian naive bayes\n",
      "Accuracy: 0.779 || AUROC 0.512 || (Accuracy, Precision) 0:( 0.091, 0.235)  1:( 0.934, 0.821) -> Gaussian Process\n",
      "Accuracy: 0.613 || AUROC 0.551 || (Accuracy, Precision) 0:( 0.455, 0.225)  1:( 0.648, 0.841) -> Decision Tree\n",
      "Accuracy: 0.721 || AUROC 0.521 || (Accuracy, Precision) 0:( 0.205, 0.220)  1:( 0.837, 0.824) -> Multi-layer Perceptron\n",
      "Accuracy: 0.725 || AUROC 0.497 || (Accuracy, Precision) 0:( 0.136, 0.176)  1:( 0.857, 0.816) -> AdaBoost\n",
      "Accuracy: 0.746 || AUROC 0.492 || (Accuracy, Precision) 0:( 0.091, 0.160)  1:( 0.893, 0.814) -> Random Forest\n"
     ]
    }
   ],
   "source": [
    "evaluateBalancerAgaintTestData(tomekSampler)"
   ]
  }
 ],
 "metadata": {
  "kernelspec": {
   "display_name": "Python 3",
   "language": "python",
   "name": "python3"
  },
  "language_info": {
   "codemirror_mode": {
    "name": "ipython",
    "version": 3
   },
   "file_extension": ".py",
   "mimetype": "text/x-python",
   "name": "python",
   "nbconvert_exporter": "python",
   "pygments_lexer": "ipython3",
   "version": "3.7.5"
  }
 },
 "nbformat": 4,
 "nbformat_minor": 2
}
